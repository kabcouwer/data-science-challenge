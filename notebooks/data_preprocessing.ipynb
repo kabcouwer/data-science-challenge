{
 "cells": [
  {
   "cell_type": "code",
   "execution_count": 1,
   "metadata": {},
   "outputs": [],
   "source": [
    "import pandas as pd\n",
    "import numpy as np\n",
    "import matplotlib.pyplot as plt\n",
    "\n",
    "import sys\n",
    "sys.path.append(\"/Users/kimabcouwer/Projects/data-science-challenge\")\n",
    "\n",
    "import src.utils.helper_functions as hf\n",
    "\n",
    "raw_training_data = pd.read_csv(\"../data/raw/Training_dataset.csv\")\n"
   ]
  },
  {
   "cell_type": "code",
   "execution_count": 2,
   "metadata": {},
   "outputs": [
    {
     "name": "stdout",
     "output_type": "stream",
     "text": [
      "\n",
      " Data shape after dropping columns:  (6298, 9)\n",
      "<class 'pandas.core.frame.DataFrame'>\n",
      "RangeIndex: 6298 entries, 0 to 6297\n",
      "Data columns (total 9 columns):\n",
      " #   Column                Non-Null Count  Dtype  \n",
      "---  ------                --------------  -----  \n",
      " 0   ListingID             6298 non-null   int64  \n",
      " 1   VehColorExt           6225 non-null   object \n",
      " 2   VehDriveTrain         5897 non-null   object \n",
      " 3   VehMake               6298 non-null   object \n",
      " 4   VehMileage            6296 non-null   float64\n",
      " 5   VehModel              6298 non-null   object \n",
      " 6   VehYear               6298 non-null   int64  \n",
      " 7   Vehicle_Trim          5893 non-null   object \n",
      " 8   Dealer_Listing_Price  6246 non-null   float64\n",
      "dtypes: float64(2), int64(2), object(5)\n",
      "memory usage: 443.0+ KB\n"
     ]
    }
   ],
   "source": [
    "# Preprocess data\n",
    "\n",
    "# Drop columns\n",
    "data = hf.drop_columns(raw_training_data)\n",
    "\n",
    "print(\"\\n Data shape after dropping columns: \", data.shape)\n",
    "data.info()"
   ]
  },
  {
   "cell_type": "code",
   "execution_count": 3,
   "metadata": {},
   "outputs": [
    {
     "name": "stdout",
     "output_type": "stream",
     "text": [
      "\n",
      " Veh Trim values with extra drivetrain details: \n",
      "<class 'pandas.core.frame.DataFrame'>\n",
      "Index: 1 entries, 1921 to 1921\n",
      "Data columns (total 9 columns):\n",
      " #   Column                Non-Null Count  Dtype  \n",
      "---  ------                --------------  -----  \n",
      " 0   ListingID             1 non-null      int64  \n",
      " 1   VehColorExt           1 non-null      object \n",
      " 2   VehDriveTrain         0 non-null      object \n",
      " 3   VehMake               1 non-null      object \n",
      " 4   VehMileage            1 non-null      float64\n",
      " 5   VehModel              1 non-null      object \n",
      " 6   VehYear               1 non-null      int64  \n",
      " 7   Vehicle_Trim          1 non-null      object \n",
      " 8   Dealer_Listing_Price  1 non-null      float64\n",
      "dtypes: float64(2), int64(2), object(5)\n",
      "memory usage: 80.0+ bytes\n"
     ]
    }
   ],
   "source": [
    "# Examine Vehicle_Trim with extra drivetrain details\n",
    "print(\"\\n Veh Trim values with extra drivetrain details: \")\n",
    "rslt_df = data.copy()\n",
    "search_for = ['4x4', '4wd', 'fwd', 'awd', 'rwd']\n",
    "column = 'Vehicle_Trim'\n",
    "\n",
    "# Convert to lowercase\n",
    "rslt_df[column] = rslt_df[column].str.lower()\n",
    "\n",
    "rslt_df = rslt_df[(rslt_df[column].str.contains('|'.join(search_for))) & (rslt_df['VehDriveTrain'].isnull())]\n",
    "rslt_df.info()"
   ]
  },
  {
   "cell_type": "code",
   "execution_count": 4,
   "metadata": {},
   "outputs": [
    {
     "data": {
      "text/html": [
       "<div>\n",
       "<style scoped>\n",
       "    .dataframe tbody tr th:only-of-type {\n",
       "        vertical-align: middle;\n",
       "    }\n",
       "\n",
       "    .dataframe tbody tr th {\n",
       "        vertical-align: top;\n",
       "    }\n",
       "\n",
       "    .dataframe thead th {\n",
       "        text-align: right;\n",
       "    }\n",
       "</style>\n",
       "<table border=\"1\" class=\"dataframe\">\n",
       "  <thead>\n",
       "    <tr style=\"text-align: right;\">\n",
       "      <th></th>\n",
       "      <th>ListingID</th>\n",
       "      <th>VehColorExt</th>\n",
       "      <th>VehDriveTrain</th>\n",
       "      <th>VehMake</th>\n",
       "      <th>VehMileage</th>\n",
       "      <th>VehModel</th>\n",
       "      <th>VehYear</th>\n",
       "      <th>Vehicle_Trim</th>\n",
       "      <th>Dealer_Listing_Price</th>\n",
       "    </tr>\n",
       "  </thead>\n",
       "  <tbody>\n",
       "    <tr>\n",
       "      <th>1921</th>\n",
       "      <td>2677897</td>\n",
       "      <td>Red</td>\n",
       "      <td>NaN</td>\n",
       "      <td>Cadillac</td>\n",
       "      <td>19479.0</td>\n",
       "      <td>XT5</td>\n",
       "      <td>2017</td>\n",
       "      <td>fwd</td>\n",
       "      <td>31999.0</td>\n",
       "    </tr>\n",
       "  </tbody>\n",
       "</table>\n",
       "</div>"
      ],
      "text/plain": [
       "      ListingID VehColorExt VehDriveTrain   VehMake  VehMileage VehModel  \\\n",
       "1921    2677897         Red           NaN  Cadillac     19479.0      XT5   \n",
       "\n",
       "      VehYear Vehicle_Trim  Dealer_Listing_Price  \n",
       "1921     2017          fwd               31999.0  "
      ]
     },
     "execution_count": 4,
     "metadata": {},
     "output_type": "execute_result"
    }
   ],
   "source": [
    "rslt_df.head()"
   ]
  },
  {
   "cell_type": "code",
   "execution_count": 5,
   "metadata": {},
   "outputs": [
    {
     "name": "stdout",
     "output_type": "stream",
     "text": [
      "\n",
      " Transfering data...\n",
      "<class 'pandas.core.frame.DataFrame'>\n",
      "Index: 0 entries\n",
      "Data columns (total 9 columns):\n",
      " #   Column                Non-Null Count  Dtype  \n",
      "---  ------                --------------  -----  \n",
      " 0   ListingID             0 non-null      int64  \n",
      " 1   VehColorExt           0 non-null      object \n",
      " 2   VehDriveTrain         0 non-null      object \n",
      " 3   VehMake               0 non-null      object \n",
      " 4   VehMileage            0 non-null      float64\n",
      " 5   VehModel              0 non-null      object \n",
      " 6   VehYear               0 non-null      int64  \n",
      " 7   Vehicle_Trim          0 non-null      object \n",
      " 8   Dealer_Listing_Price  0 non-null      float64\n",
      "dtypes: float64(2), int64(2), object(5)\n",
      "memory usage: 0.0+ bytes\n"
     ]
    },
    {
     "data": {
      "text/html": [
       "<div>\n",
       "<style scoped>\n",
       "    .dataframe tbody tr th:only-of-type {\n",
       "        vertical-align: middle;\n",
       "    }\n",
       "\n",
       "    .dataframe tbody tr th {\n",
       "        vertical-align: top;\n",
       "    }\n",
       "\n",
       "    .dataframe thead th {\n",
       "        text-align: right;\n",
       "    }\n",
       "</style>\n",
       "<table border=\"1\" class=\"dataframe\">\n",
       "  <thead>\n",
       "    <tr style=\"text-align: right;\">\n",
       "      <th></th>\n",
       "      <th>ListingID</th>\n",
       "      <th>VehColorExt</th>\n",
       "      <th>VehDriveTrain</th>\n",
       "      <th>VehMake</th>\n",
       "      <th>VehMileage</th>\n",
       "      <th>VehModel</th>\n",
       "      <th>VehYear</th>\n",
       "      <th>Vehicle_Trim</th>\n",
       "      <th>Dealer_Listing_Price</th>\n",
       "    </tr>\n",
       "  </thead>\n",
       "  <tbody>\n",
       "  </tbody>\n",
       "</table>\n",
       "</div>"
      ],
      "text/plain": [
       "Empty DataFrame\n",
       "Columns: [ListingID, VehColorExt, VehDriveTrain, VehMake, VehMileage, VehModel, VehYear, Vehicle_Trim, Dealer_Listing_Price]\n",
       "Index: []"
      ]
     },
     "execution_count": 5,
     "metadata": {},
     "output_type": "execute_result"
    }
   ],
   "source": [
    "print(\"\\n Transfering data...\")\n",
    "rslt_df = hf.transfer_data(rslt_df)\n",
    "search_for = ['4x4', '4wd', 'fwd', 'awd', 'rwd']\n",
    "column = 'Vehicle_Trim'\n",
    "\n",
    "# Convert to lowercase\n",
    "rslt_df[column] = rslt_df[column].str.lower()\n",
    "\n",
    "rslt_df = rslt_df[(rslt_df[column].str.contains('|'.join(search_for))) & (rslt_df['VehDriveTrain'].isnull())]\n",
    "rslt_df.info()\n",
    "rslt_df.head()"
   ]
  },
  {
   "cell_type": "code",
   "execution_count": 6,
   "metadata": {},
   "outputs": [
    {
     "name": "stdout",
     "output_type": "stream",
     "text": [
      "<class 'pandas.core.frame.DataFrame'>\n",
      "RangeIndex: 6298 entries, 0 to 6297\n",
      "Data columns (total 9 columns):\n",
      " #   Column                Non-Null Count  Dtype  \n",
      "---  ------                --------------  -----  \n",
      " 0   ListingID             6298 non-null   int64  \n",
      " 1   VehColorExt           6225 non-null   object \n",
      " 2   VehDriveTrain         6231 non-null   object \n",
      " 3   VehMake               6298 non-null   object \n",
      " 4   VehMileage            6296 non-null   float64\n",
      " 5   VehModel              6298 non-null   object \n",
      " 6   VehYear               6298 non-null   int64  \n",
      " 7   Vehicle_Trim          5893 non-null   object \n",
      " 8   Dealer_Listing_Price  6246 non-null   float64\n",
      "dtypes: float64(2), int64(2), object(5)\n",
      "memory usage: 443.0+ KB\n"
     ]
    }
   ],
   "source": [
    "# Transfer Vehicle_Trim extra data to VehDriveTrain\n",
    "data = hf.transfer_data(data)\n",
    "data.info()"
   ]
  },
  {
   "cell_type": "code",
   "execution_count": 7,
   "metadata": {},
   "outputs": [
    {
     "name": "stdout",
     "output_type": "stream",
     "text": [
      "\n",
      " Data shape after dropping rows with missing values:  (5734, 9)\n",
      "<class 'pandas.core.frame.DataFrame'>\n",
      "Index: 5734 entries, 0 to 6297\n",
      "Data columns (total 9 columns):\n",
      " #   Column                Non-Null Count  Dtype  \n",
      "---  ------                --------------  -----  \n",
      " 0   ListingID             5734 non-null   int64  \n",
      " 1   VehColorExt           5734 non-null   object \n",
      " 2   VehDriveTrain         5734 non-null   object \n",
      " 3   VehMake               5734 non-null   object \n",
      " 4   VehMileage            5734 non-null   float64\n",
      " 5   VehModel              5734 non-null   object \n",
      " 6   VehYear               5734 non-null   int64  \n",
      " 7   Vehicle_Trim          5734 non-null   object \n",
      " 8   Dealer_Listing_Price  5734 non-null   float64\n",
      "dtypes: float64(2), int64(2), object(5)\n",
      "memory usage: 448.0+ KB\n"
     ]
    }
   ],
   "source": [
    "# Drop rows with missing values\n",
    "data = data.dropna()\n",
    "\n",
    "print(\"\\n Data shape after dropping rows with missing values: \", data.shape)\n",
    "data.info()"
   ]
  },
  {
   "cell_type": "code",
   "execution_count": 8,
   "metadata": {},
   "outputs": [
    {
     "name": "stdout",
     "output_type": "stream",
     "text": [
      "\n",
      " Number of unique values in each column: \n"
     ]
    },
    {
     "data": {
      "text/plain": [
       "ListingID               5734\n",
       "VehColorExt              164\n",
       "VehDriveTrain             18\n",
       "VehMake                    2\n",
       "VehMileage              4801\n",
       "VehModel                   2\n",
       "VehYear                    5\n",
       "Vehicle_Trim              29\n",
       "Dealer_Listing_Price    2688\n",
       "dtype: int64"
      ]
     },
     "execution_count": 8,
     "metadata": {},
     "output_type": "execute_result"
    }
   ],
   "source": [
    "print(\"\\n Number of unique values in each column: \")\n",
    "data.nunique()\n"
   ]
  },
  {
   "cell_type": "code",
   "execution_count": 9,
   "metadata": {},
   "outputs": [
    {
     "name": "stdout",
     "output_type": "stream",
     "text": [
      "\n",
      " VehColorExt values: \n"
     ]
    },
    {
     "data": {
      "text/plain": [
       "VehColorExt\n",
       "Bright White Clearcoat                       581\n",
       "Billet Silver Metallic Clearcoat             384\n",
       "Brilliant Black Crystal Pearlcoat            371\n",
       "Stellar Black Metallic                       310\n",
       "Black                                        264\n",
       "                                            ... \n",
       "Certified Lthr Pano Roof Nav Camera            1\n",
       "Granite Crystal Metallic Clearcoat - Gray      1\n",
       "Crystal White Tricoa                           1\n",
       "Ivory 3 Coat                                   1\n",
       "Steel Gray                                     1\n",
       "Name: count, Length: 164, dtype: int64"
      ]
     },
     "execution_count": 9,
     "metadata": {},
     "output_type": "execute_result"
    }
   ],
   "source": [
    "# Examine VehColorExt values\n",
    "print(\"\\n VehColorExt values: \")\n",
    "data[\"VehColorExt\"].value_counts()"
   ]
  },
  {
   "cell_type": "code",
   "execution_count": 10,
   "metadata": {},
   "outputs": [
    {
     "name": "stdout",
     "output_type": "stream",
     "text": [
      "\n",
      " Veh Trim values: \n"
     ]
    },
    {
     "data": {
      "text/plain": [
       "Vehicle_Trim\n",
       "limited                             1873\n",
       "premium luxury                       728\n",
       "laredo                               678\n",
       "luxury                               607\n",
       "overland                             376\n",
       "altitude                             323\n",
       "summit                               236\n",
       "trailhawk                            177\n",
       "base                                 152\n",
       "platinum                             125\n",
       "high altitude                         84\n",
       "srt                                   75\n",
       "fwd                                   49\n",
       "luxury fwd                            49\n",
       "laredo e                              46\n",
       "premium luxury fwd                    35\n",
       "trackhawk                             30\n",
       "sterling edition                      26\n",
       "luxury awd                            20\n",
       "platinum awd                          13\n",
       "premium luxury awd                     9\n",
       "75th anniversary                       8\n",
       "limited 75th anniversary edition       5\n",
       "srt night                              3\n",
       "upland                                 3\n",
       "limited 4x4                            1\n",
       "75th anniversary edition               1\n",
       "limited 75th anniversary               1\n",
       "limited x                              1\n",
       "Name: count, dtype: int64"
      ]
     },
     "execution_count": 10,
     "metadata": {},
     "output_type": "execute_result"
    }
   ],
   "source": [
    "# Examine Veh Trim values\n",
    "print(\"\\n Veh Trim values: \")\n",
    "data[\"Vehicle_Trim\"].value_counts()"
   ]
  },
  {
   "cell_type": "code",
   "execution_count": 11,
   "metadata": {},
   "outputs": [
    {
     "name": "stdout",
     "output_type": "stream",
     "text": [
      "\n",
      " VehDriveTrain values: \n"
     ]
    },
    {
     "data": {
      "text/plain": [
       "VehDriveTrain\n",
       "4WD                                                           3822\n",
       "FWD                                                           1046\n",
       "AWD                                                            700\n",
       "4X4                                                             42\n",
       "Four Wheel Drive                                                40\n",
       "All Wheel Drive                                                 19\n",
       "Front Wheel Drive                                               16\n",
       "4x4                                                             12\n",
       "4x4/4-wheel drive                                               10\n",
       "4x4/4WD                                                          9\n",
       "AWD or 4x4                                                       6\n",
       "All-wheel Drive                                                  5\n",
       "Front-wheel Drive                                                2\n",
       "ALL-WHEEL DRIVE WITH LOCKING AND LIMITED-SLIP DIFFERENTIAL       1\n",
       "2WD                                                              1\n",
       "ALL WHEEL                                                        1\n",
       "AllWheelDrive                                                    1\n",
       "4WD/AWD                                                          1\n",
       "Name: count, dtype: int64"
      ]
     },
     "execution_count": 11,
     "metadata": {},
     "output_type": "execute_result"
    }
   ],
   "source": [
    "# Examine VehDriveTrain values\n",
    "print(\"\\n VehDriveTrain values: \")\n",
    "data[\"VehDriveTrain\"].value_counts()"
   ]
  },
  {
   "cell_type": "code",
   "execution_count": 12,
   "metadata": {},
   "outputs": [
    {
     "name": "stdout",
     "output_type": "stream",
     "text": [
      "\n",
      " Cleaning data...\n",
      "\n",
      " Number of unique values in each column: \n"
     ]
    },
    {
     "data": {
      "text/plain": [
       "ListingID               4088\n",
       "VehColorExt               11\n",
       "VehDriveTrain              3\n",
       "VehMake                    2\n",
       "VehMileage              3487\n",
       "VehModel                   2\n",
       "VehYear                    5\n",
       "Vehicle_Trim              15\n",
       "Dealer_Listing_Price    2078\n",
       "dtype: int64"
      ]
     },
     "execution_count": 12,
     "metadata": {},
     "output_type": "execute_result"
    }
   ],
   "source": [
    "# Clean data\n",
    "print(\"\\n Cleaning data...\")\n",
    "data = hf.clean_data(data)\n",
    "\n",
    "print(\"\\n Number of unique values in each column: \")\n",
    "data.nunique()"
   ]
  },
  {
   "cell_type": "code",
   "execution_count": 13,
   "metadata": {},
   "outputs": [
    {
     "name": "stdout",
     "output_type": "stream",
     "text": [
      "\n",
      " VehColorExt values: \n"
     ]
    },
    {
     "data": {
      "text/plain": [
       "VehColorExt\n",
       "White     1575\n",
       "Silver     818\n",
       "Gray       767\n",
       "Red        534\n",
       "Black      225\n",
       "Blue        86\n",
       "Brown       50\n",
       "Green       15\n",
       "Gold        15\n",
       "Bronze       2\n",
       "Purple       1\n",
       "Name: count, dtype: int64"
      ]
     },
     "execution_count": 13,
     "metadata": {},
     "output_type": "execute_result"
    }
   ],
   "source": [
    "# Examine VehColorExt values after cleaning\n",
    "print(\"\\n VehColorExt values: \")\n",
    "data[\"VehColorExt\"].value_counts()"
   ]
  },
  {
   "cell_type": "code",
   "execution_count": 14,
   "metadata": {},
   "outputs": [
    {
     "name": "stdout",
     "output_type": "stream",
     "text": [
      "\n",
      " Veh Trim values: \n"
     ]
    },
    {
     "data": {
      "text/plain": [
       "Vehicle_Trim\n",
       "Limited             1867\n",
       "Laredo               678\n",
       "Overland             374\n",
       "Altitude             322\n",
       "Summit               236\n",
       "Trailhawk            177\n",
       "Base                 152\n",
       "High Altitude         83\n",
       "SRT                   78\n",
       "Laredo E              46\n",
       "Trackhawk             30\n",
       "Sterling Edition      26\n",
       "75th Anniversary      15\n",
       "Upland                 3\n",
       "Limited X              1\n",
       "Name: count, dtype: int64"
      ]
     },
     "execution_count": 14,
     "metadata": {},
     "output_type": "execute_result"
    }
   ],
   "source": [
    "# Examine Veh Trim values after cleaning\n",
    "print(\"\\n Veh Trim values: \")\n",
    "data[\"Vehicle_Trim\"].value_counts()"
   ]
  },
  {
   "cell_type": "code",
   "execution_count": 15,
   "metadata": {},
   "outputs": [
    {
     "name": "stdout",
     "output_type": "stream",
     "text": [
      "\n",
      " VehDriveTrain values: \n"
     ]
    },
    {
     "data": {
      "text/plain": [
       "VehDriveTrain\n",
       "4WD    3924\n",
       "FWD     147\n",
       "AWD      17\n",
       "Name: count, dtype: int64"
      ]
     },
     "execution_count": 15,
     "metadata": {},
     "output_type": "execute_result"
    }
   ],
   "source": [
    "# Examine VehDriveTrain values after cleaning\n",
    "print(\"\\n VehDriveTrain values: \")\n",
    "data[\"VehDriveTrain\"].value_counts()"
   ]
  },
  {
   "cell_type": "code",
   "execution_count": 16,
   "metadata": {},
   "outputs": [],
   "source": [
    "# Create car age column\n",
    "data = hf.create_car_age_column(data)"
   ]
  },
  {
   "cell_type": "code",
   "execution_count": 17,
   "metadata": {},
   "outputs": [
    {
     "name": "stdout",
     "output_type": "stream",
     "text": [
      "\n",
      "Processed data:\n"
     ]
    },
    {
     "data": {
      "text/html": [
       "<div>\n",
       "<style scoped>\n",
       "    .dataframe tbody tr th:only-of-type {\n",
       "        vertical-align: middle;\n",
       "    }\n",
       "\n",
       "    .dataframe tbody tr th {\n",
       "        vertical-align: top;\n",
       "    }\n",
       "\n",
       "    .dataframe thead th {\n",
       "        text-align: right;\n",
       "    }\n",
       "</style>\n",
       "<table border=\"1\" class=\"dataframe\">\n",
       "  <thead>\n",
       "    <tr style=\"text-align: right;\">\n",
       "      <th></th>\n",
       "      <th>ListingID</th>\n",
       "      <th>VehColorExt</th>\n",
       "      <th>VehDriveTrain</th>\n",
       "      <th>VehMake</th>\n",
       "      <th>VehMileage</th>\n",
       "      <th>VehModel</th>\n",
       "      <th>VehYear</th>\n",
       "      <th>Vehicle_Trim</th>\n",
       "      <th>Dealer_Listing_Price</th>\n",
       "      <th>Car_Age</th>\n",
       "    </tr>\n",
       "  </thead>\n",
       "  <tbody>\n",
       "    <tr>\n",
       "      <th>0</th>\n",
       "      <td>3287</td>\n",
       "      <td>White</td>\n",
       "      <td>4WD</td>\n",
       "      <td>Jeep</td>\n",
       "      <td>39319.0</td>\n",
       "      <td>Grand Cherokee</td>\n",
       "      <td>2015</td>\n",
       "      <td>High Altitude</td>\n",
       "      <td>30990.0</td>\n",
       "      <td>8</td>\n",
       "    </tr>\n",
       "    <tr>\n",
       "      <th>2</th>\n",
       "      <td>4777</td>\n",
       "      <td>White</td>\n",
       "      <td>4WD</td>\n",
       "      <td>Jeep</td>\n",
       "      <td>38957.0</td>\n",
       "      <td>Grand Cherokee</td>\n",
       "      <td>2015</td>\n",
       "      <td>Laredo</td>\n",
       "      <td>23249.0</td>\n",
       "      <td>8</td>\n",
       "    </tr>\n",
       "    <tr>\n",
       "      <th>3</th>\n",
       "      <td>6242</td>\n",
       "      <td>White</td>\n",
       "      <td>4WD</td>\n",
       "      <td>Jeep</td>\n",
       "      <td>20404.0</td>\n",
       "      <td>Grand Cherokee</td>\n",
       "      <td>2018</td>\n",
       "      <td>Limited</td>\n",
       "      <td>31977.0</td>\n",
       "      <td>5</td>\n",
       "    </tr>\n",
       "    <tr>\n",
       "      <th>5</th>\n",
       "      <td>10882</td>\n",
       "      <td>Silver</td>\n",
       "      <td>4WD</td>\n",
       "      <td>Jeep</td>\n",
       "      <td>34649.0</td>\n",
       "      <td>Grand Cherokee</td>\n",
       "      <td>2018</td>\n",
       "      <td>Limited</td>\n",
       "      <td>27900.0</td>\n",
       "      <td>5</td>\n",
       "    </tr>\n",
       "    <tr>\n",
       "      <th>6</th>\n",
       "      <td>12013</td>\n",
       "      <td>White</td>\n",
       "      <td>4WD</td>\n",
       "      <td>Jeep</td>\n",
       "      <td>48814.0</td>\n",
       "      <td>Grand Cherokee</td>\n",
       "      <td>2017</td>\n",
       "      <td>Laredo</td>\n",
       "      <td>22989.0</td>\n",
       "      <td>6</td>\n",
       "    </tr>\n",
       "  </tbody>\n",
       "</table>\n",
       "</div>"
      ],
      "text/plain": [
       "   ListingID VehColorExt VehDriveTrain VehMake  VehMileage        VehModel  \\\n",
       "0       3287       White           4WD    Jeep     39319.0  Grand Cherokee   \n",
       "2       4777       White           4WD    Jeep     38957.0  Grand Cherokee   \n",
       "3       6242       White           4WD    Jeep     20404.0  Grand Cherokee   \n",
       "5      10882      Silver           4WD    Jeep     34649.0  Grand Cherokee   \n",
       "6      12013       White           4WD    Jeep     48814.0  Grand Cherokee   \n",
       "\n",
       "   VehYear   Vehicle_Trim  Dealer_Listing_Price  Car_Age  \n",
       "0     2015  High Altitude               30990.0        8  \n",
       "2     2015         Laredo               23249.0        8  \n",
       "3     2018        Limited               31977.0        5  \n",
       "5     2018        Limited               27900.0        5  \n",
       "6     2017         Laredo               22989.0        6  "
      ]
     },
     "execution_count": 17,
     "metadata": {},
     "output_type": "execute_result"
    }
   ],
   "source": [
    "print(\"\\nProcessed data:\")\n",
    "data.head()"
   ]
  },
  {
   "cell_type": "code",
   "execution_count": 18,
   "metadata": {},
   "outputs": [
    {
     "name": "stdout",
     "output_type": "stream",
     "text": [
      "<class 'pandas.core.frame.DataFrame'>\n",
      "Index: 4088 entries, 0 to 6297\n",
      "Data columns (total 10 columns):\n",
      " #   Column                Non-Null Count  Dtype  \n",
      "---  ------                --------------  -----  \n",
      " 0   ListingID             4088 non-null   int64  \n",
      " 1   VehColorExt           4088 non-null   object \n",
      " 2   VehDriveTrain         4088 non-null   object \n",
      " 3   VehMake               4088 non-null   object \n",
      " 4   VehMileage            4088 non-null   float64\n",
      " 5   VehModel              4088 non-null   object \n",
      " 6   VehYear               4088 non-null   int64  \n",
      " 7   Vehicle_Trim          4088 non-null   object \n",
      " 8   Dealer_Listing_Price  4088 non-null   float64\n",
      " 9   Car_Age               4088 non-null   int64  \n",
      "dtypes: float64(2), int64(3), object(5)\n",
      "memory usage: 351.3+ KB\n"
     ]
    }
   ],
   "source": [
    "data.info()"
   ]
  },
  {
   "cell_type": "code",
   "execution_count": 19,
   "metadata": {},
   "outputs": [
    {
     "data": {
      "text/plain": [
       "ListingID               4088\n",
       "VehColorExt               11\n",
       "VehDriveTrain              3\n",
       "VehMake                    2\n",
       "VehMileage              3487\n",
       "VehModel                   2\n",
       "VehYear                    5\n",
       "Vehicle_Trim              15\n",
       "Dealer_Listing_Price    2078\n",
       "Car_Age                    5\n",
       "dtype: int64"
      ]
     },
     "execution_count": 19,
     "metadata": {},
     "output_type": "execute_result"
    }
   ],
   "source": [
    "data.nunique()"
   ]
  },
  {
   "cell_type": "code",
   "execution_count": 20,
   "metadata": {},
   "outputs": [
    {
     "name": "stdout",
     "output_type": "stream",
     "text": [
      "\n",
      " Data evaluation: \n"
     ]
    },
    {
     "data": {
      "text/html": [
       "<div>\n",
       "<style scoped>\n",
       "    .dataframe tbody tr th:only-of-type {\n",
       "        vertical-align: middle;\n",
       "    }\n",
       "\n",
       "    .dataframe tbody tr th {\n",
       "        vertical-align: top;\n",
       "    }\n",
       "\n",
       "    .dataframe thead th {\n",
       "        text-align: right;\n",
       "    }\n",
       "</style>\n",
       "<table border=\"1\" class=\"dataframe\">\n",
       "  <thead>\n",
       "    <tr style=\"text-align: right;\">\n",
       "      <th></th>\n",
       "      <th>ListingID</th>\n",
       "      <th>VehMileage</th>\n",
       "      <th>VehYear</th>\n",
       "      <th>Dealer_Listing_Price</th>\n",
       "      <th>Car_Age</th>\n",
       "    </tr>\n",
       "  </thead>\n",
       "  <tbody>\n",
       "    <tr>\n",
       "      <th>count</th>\n",
       "      <td>4.088000e+03</td>\n",
       "      <td>4088.000000</td>\n",
       "      <td>4088.000000</td>\n",
       "      <td>4088.000000</td>\n",
       "      <td>4088.000000</td>\n",
       "    </tr>\n",
       "    <tr>\n",
       "      <th>mean</th>\n",
       "      <td>4.329132e+06</td>\n",
       "      <td>28097.302593</td>\n",
       "      <td>2016.443493</td>\n",
       "      <td>30197.954746</td>\n",
       "      <td>6.556507</td>\n",
       "    </tr>\n",
       "    <tr>\n",
       "      <th>std</th>\n",
       "      <td>2.499782e+06</td>\n",
       "      <td>12742.907146</td>\n",
       "      <td>1.252250</td>\n",
       "      <td>7387.416205</td>\n",
       "      <td>1.252250</td>\n",
       "    </tr>\n",
       "    <tr>\n",
       "      <th>min</th>\n",
       "      <td>3.287000e+03</td>\n",
       "      <td>0.000000</td>\n",
       "      <td>2015.000000</td>\n",
       "      <td>18289.000000</td>\n",
       "      <td>4.000000</td>\n",
       "    </tr>\n",
       "    <tr>\n",
       "      <th>25%</th>\n",
       "      <td>2.168919e+06</td>\n",
       "      <td>18263.250000</td>\n",
       "      <td>2015.000000</td>\n",
       "      <td>25750.000000</td>\n",
       "      <td>5.000000</td>\n",
       "    </tr>\n",
       "    <tr>\n",
       "      <th>50%</th>\n",
       "      <td>4.335645e+06</td>\n",
       "      <td>28892.000000</td>\n",
       "      <td>2017.000000</td>\n",
       "      <td>28900.000000</td>\n",
       "      <td>6.000000</td>\n",
       "    </tr>\n",
       "    <tr>\n",
       "      <th>75%</th>\n",
       "      <td>6.541194e+06</td>\n",
       "      <td>38684.000000</td>\n",
       "      <td>2018.000000</td>\n",
       "      <td>32997.000000</td>\n",
       "      <td>8.000000</td>\n",
       "    </tr>\n",
       "    <tr>\n",
       "      <th>max</th>\n",
       "      <td>8.620012e+06</td>\n",
       "      <td>56364.000000</td>\n",
       "      <td>2019.000000</td>\n",
       "      <td>89500.000000</td>\n",
       "      <td>8.000000</td>\n",
       "    </tr>\n",
       "  </tbody>\n",
       "</table>\n",
       "</div>"
      ],
      "text/plain": [
       "          ListingID    VehMileage      VehYear  Dealer_Listing_Price  \\\n",
       "count  4.088000e+03   4088.000000  4088.000000           4088.000000   \n",
       "mean   4.329132e+06  28097.302593  2016.443493          30197.954746   \n",
       "std    2.499782e+06  12742.907146     1.252250           7387.416205   \n",
       "min    3.287000e+03      0.000000  2015.000000          18289.000000   \n",
       "25%    2.168919e+06  18263.250000  2015.000000          25750.000000   \n",
       "50%    4.335645e+06  28892.000000  2017.000000          28900.000000   \n",
       "75%    6.541194e+06  38684.000000  2018.000000          32997.000000   \n",
       "max    8.620012e+06  56364.000000  2019.000000          89500.000000   \n",
       "\n",
       "           Car_Age  \n",
       "count  4088.000000  \n",
       "mean      6.556507  \n",
       "std       1.252250  \n",
       "min       4.000000  \n",
       "25%       5.000000  \n",
       "50%       6.000000  \n",
       "75%       8.000000  \n",
       "max       8.000000  "
      ]
     },
     "execution_count": 20,
     "metadata": {},
     "output_type": "execute_result"
    }
   ],
   "source": [
    "# Evaluate the data\n",
    "print(\"\\n Data evaluation: \")\n",
    "data.describe()"
   ]
  }
 ],
 "metadata": {
  "kernelspec": {
   "display_name": "venv",
   "language": "python",
   "name": "python3"
  },
  "language_info": {
   "codemirror_mode": {
    "name": "ipython",
    "version": 3
   },
   "file_extension": ".py",
   "mimetype": "text/x-python",
   "name": "python",
   "nbconvert_exporter": "python",
   "pygments_lexer": "ipython3",
   "version": "3.11.5"
  }
 },
 "nbformat": 4,
 "nbformat_minor": 2
}
