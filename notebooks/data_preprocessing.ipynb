{
 "cells": [
  {
   "cell_type": "code",
   "execution_count": 8,
   "metadata": {},
   "outputs": [],
   "source": [
    "import pandas as pd\n",
    "import numpy as np\n",
    "import matplotlib.pyplot as plt\n",
    "\n",
    "import sys\n",
    "sys.path.append(\"/Users/kimabcouwer/Projects/data-science-challenge\")\n",
    "\n",
    "import src.utils.helper_functions as hf\n",
    "\n",
    "raw_training_data = pd.read_csv(\"../data/raw/Training_dataset.csv\")\n"
   ]
  },
  {
   "cell_type": "code",
   "execution_count": 9,
   "metadata": {},
   "outputs": [
    {
     "data": {
      "text/html": [
       "<div>\n",
       "<style scoped>\n",
       "    .dataframe tbody tr th:only-of-type {\n",
       "        vertical-align: middle;\n",
       "    }\n",
       "\n",
       "    .dataframe tbody tr th {\n",
       "        vertical-align: top;\n",
       "    }\n",
       "\n",
       "    .dataframe thead th {\n",
       "        text-align: right;\n",
       "    }\n",
       "</style>\n",
       "<table border=\"1\" class=\"dataframe\">\n",
       "  <thead>\n",
       "    <tr style=\"text-align: right;\">\n",
       "      <th></th>\n",
       "      <th>ListingID</th>\n",
       "      <th>SellerCity</th>\n",
       "      <th>SellerIsPriv</th>\n",
       "      <th>SellerListSrc</th>\n",
       "      <th>SellerName</th>\n",
       "      <th>SellerRating</th>\n",
       "      <th>SellerRevCnt</th>\n",
       "      <th>SellerState</th>\n",
       "      <th>SellerZip</th>\n",
       "      <th>VehBodystyle</th>\n",
       "      <th>...</th>\n",
       "      <th>VehMake</th>\n",
       "      <th>VehMileage</th>\n",
       "      <th>VehModel</th>\n",
       "      <th>VehPriceLabel</th>\n",
       "      <th>VehSellerNotes</th>\n",
       "      <th>VehType</th>\n",
       "      <th>VehTransmission</th>\n",
       "      <th>VehYear</th>\n",
       "      <th>Vehicle_Trim</th>\n",
       "      <th>Dealer_Listing_Price</th>\n",
       "    </tr>\n",
       "  </thead>\n",
       "  <tbody>\n",
       "    <tr>\n",
       "      <th>0</th>\n",
       "      <td>3287</td>\n",
       "      <td>Warren</td>\n",
       "      <td>False</td>\n",
       "      <td>Inventory Command Center</td>\n",
       "      <td>Prime Motorz</td>\n",
       "      <td>5.0</td>\n",
       "      <td>32</td>\n",
       "      <td>MI</td>\n",
       "      <td>48091.0</td>\n",
       "      <td>SUV</td>\n",
       "      <td>...</td>\n",
       "      <td>Jeep</td>\n",
       "      <td>39319.0</td>\n",
       "      <td>Grand Cherokee</td>\n",
       "      <td>Fair Price</td>\n",
       "      <td>NaN</td>\n",
       "      <td>Used</td>\n",
       "      <td>Automatic 8-Speed</td>\n",
       "      <td>2015</td>\n",
       "      <td>High Altitude</td>\n",
       "      <td>30990.0</td>\n",
       "    </tr>\n",
       "    <tr>\n",
       "      <th>1</th>\n",
       "      <td>3920</td>\n",
       "      <td>Fargo</td>\n",
       "      <td>False</td>\n",
       "      <td>Cadillac Certified Program</td>\n",
       "      <td>Gateway Chevrolet Cadillac</td>\n",
       "      <td>4.8</td>\n",
       "      <td>1456</td>\n",
       "      <td>ND</td>\n",
       "      <td>58103.0</td>\n",
       "      <td>SUV</td>\n",
       "      <td>...</td>\n",
       "      <td>Cadillac</td>\n",
       "      <td>30352.0</td>\n",
       "      <td>XT5</td>\n",
       "      <td>Good Deal</td>\n",
       "      <td>Come take a look at our great pre-owned invent...</td>\n",
       "      <td>Used</td>\n",
       "      <td>NaN</td>\n",
       "      <td>2017</td>\n",
       "      <td>NaN</td>\n",
       "      <td>34860.0</td>\n",
       "    </tr>\n",
       "    <tr>\n",
       "      <th>2</th>\n",
       "      <td>4777</td>\n",
       "      <td>Waukesha</td>\n",
       "      <td>False</td>\n",
       "      <td>Jeep Certified Program</td>\n",
       "      <td>Wilde Chrysler Jeep Dodge Ram &amp;amp; Subaru</td>\n",
       "      <td>4.8</td>\n",
       "      <td>1405</td>\n",
       "      <td>WI</td>\n",
       "      <td>53186.0</td>\n",
       "      <td>SUV</td>\n",
       "      <td>...</td>\n",
       "      <td>Jeep</td>\n",
       "      <td>38957.0</td>\n",
       "      <td>Grand Cherokee</td>\n",
       "      <td>Good Deal</td>\n",
       "      <td>Backed by a rigorous 125-point inspection by f...</td>\n",
       "      <td>Used</td>\n",
       "      <td>8-Speed Automatic w/OD</td>\n",
       "      <td>2015</td>\n",
       "      <td>Laredo</td>\n",
       "      <td>23249.0</td>\n",
       "    </tr>\n",
       "    <tr>\n",
       "      <th>3</th>\n",
       "      <td>6242</td>\n",
       "      <td>Wentzville</td>\n",
       "      <td>False</td>\n",
       "      <td>Inventory Command Center</td>\n",
       "      <td>Century Dodge Chrysler Jeep RAM</td>\n",
       "      <td>4.4</td>\n",
       "      <td>21</td>\n",
       "      <td>MO</td>\n",
       "      <td>63385.0</td>\n",
       "      <td>SUV</td>\n",
       "      <td>...</td>\n",
       "      <td>Jeep</td>\n",
       "      <td>20404.0</td>\n",
       "      <td>Grand Cherokee</td>\n",
       "      <td>Good Deal</td>\n",
       "      <td>Drop by to see us and you will quickly see how...</td>\n",
       "      <td>Used</td>\n",
       "      <td>Automatic</td>\n",
       "      <td>2018</td>\n",
       "      <td>Limited</td>\n",
       "      <td>31977.0</td>\n",
       "    </tr>\n",
       "    <tr>\n",
       "      <th>4</th>\n",
       "      <td>7108</td>\n",
       "      <td>Fayetteville</td>\n",
       "      <td>False</td>\n",
       "      <td>HomeNet Automotive</td>\n",
       "      <td>Superior Buick GMC of Fayetteville</td>\n",
       "      <td>3.7</td>\n",
       "      <td>74</td>\n",
       "      <td>AR</td>\n",
       "      <td>72703.0</td>\n",
       "      <td>SUV</td>\n",
       "      <td>...</td>\n",
       "      <td>Cadillac</td>\n",
       "      <td>19788.0</td>\n",
       "      <td>XT5</td>\n",
       "      <td>Good Deal</td>\n",
       "      <td>Luxury, Exterior Parking Camera Rear, Front Du...</td>\n",
       "      <td>Used</td>\n",
       "      <td>8-Speed Automatic</td>\n",
       "      <td>2018</td>\n",
       "      <td>Luxury</td>\n",
       "      <td>33495.0</td>\n",
       "    </tr>\n",
       "  </tbody>\n",
       "</table>\n",
       "<p>5 rows × 29 columns</p>\n",
       "</div>"
      ],
      "text/plain": [
       "   ListingID    SellerCity  SellerIsPriv               SellerListSrc  \\\n",
       "0       3287        Warren         False    Inventory Command Center   \n",
       "1       3920         Fargo         False  Cadillac Certified Program   \n",
       "2       4777      Waukesha         False      Jeep Certified Program   \n",
       "3       6242    Wentzville         False    Inventory Command Center   \n",
       "4       7108  Fayetteville         False          HomeNet Automotive   \n",
       "\n",
       "                                   SellerName  SellerRating  SellerRevCnt  \\\n",
       "0                                Prime Motorz           5.0            32   \n",
       "1                  Gateway Chevrolet Cadillac           4.8          1456   \n",
       "2  Wilde Chrysler Jeep Dodge Ram &amp; Subaru           4.8          1405   \n",
       "3             Century Dodge Chrysler Jeep RAM           4.4            21   \n",
       "4          Superior Buick GMC of Fayetteville           3.7            74   \n",
       "\n",
       "  SellerState  SellerZip VehBodystyle  ...   VehMake VehMileage  \\\n",
       "0          MI    48091.0          SUV  ...      Jeep    39319.0   \n",
       "1          ND    58103.0          SUV  ...  Cadillac    30352.0   \n",
       "2          WI    53186.0          SUV  ...      Jeep    38957.0   \n",
       "3          MO    63385.0          SUV  ...      Jeep    20404.0   \n",
       "4          AR    72703.0          SUV  ...  Cadillac    19788.0   \n",
       "\n",
       "         VehModel VehPriceLabel  \\\n",
       "0  Grand Cherokee    Fair Price   \n",
       "1             XT5     Good Deal   \n",
       "2  Grand Cherokee     Good Deal   \n",
       "3  Grand Cherokee     Good Deal   \n",
       "4             XT5     Good Deal   \n",
       "\n",
       "                                      VehSellerNotes VehType  \\\n",
       "0                                                NaN    Used   \n",
       "1  Come take a look at our great pre-owned invent...    Used   \n",
       "2  Backed by a rigorous 125-point inspection by f...    Used   \n",
       "3  Drop by to see us and you will quickly see how...    Used   \n",
       "4  Luxury, Exterior Parking Camera Rear, Front Du...    Used   \n",
       "\n",
       "          VehTransmission VehYear   Vehicle_Trim Dealer_Listing_Price  \n",
       "0       Automatic 8-Speed    2015  High Altitude              30990.0  \n",
       "1                     NaN    2017            NaN              34860.0  \n",
       "2  8-Speed Automatic w/OD    2015         Laredo              23249.0  \n",
       "3               Automatic    2018        Limited              31977.0  \n",
       "4       8-Speed Automatic    2018         Luxury              33495.0  \n",
       "\n",
       "[5 rows x 29 columns]"
      ]
     },
     "execution_count": 9,
     "metadata": {},
     "output_type": "execute_result"
    }
   ],
   "source": [
    "# Preprocess data\n",
    "raw_training_data.head()"
   ]
  },
  {
   "cell_type": "code",
   "execution_count": 10,
   "metadata": {},
   "outputs": [
    {
     "data": {
      "text/html": [
       "<div>\n",
       "<style scoped>\n",
       "    .dataframe tbody tr th:only-of-type {\n",
       "        vertical-align: middle;\n",
       "    }\n",
       "\n",
       "    .dataframe tbody tr th {\n",
       "        vertical-align: top;\n",
       "    }\n",
       "\n",
       "    .dataframe thead th {\n",
       "        text-align: right;\n",
       "    }\n",
       "</style>\n",
       "<table border=\"1\" class=\"dataframe\">\n",
       "  <thead>\n",
       "    <tr style=\"text-align: right;\">\n",
       "      <th></th>\n",
       "      <th>SellerCity</th>\n",
       "      <th>SellerIsPriv</th>\n",
       "      <th>SellerListSrc</th>\n",
       "      <th>SellerName</th>\n",
       "      <th>SellerRating</th>\n",
       "      <th>SellerRevCnt</th>\n",
       "      <th>SellerState</th>\n",
       "      <th>SellerZip</th>\n",
       "      <th>VehBodystyle</th>\n",
       "      <th>VehCertified</th>\n",
       "      <th>...</th>\n",
       "      <th>VehMake</th>\n",
       "      <th>VehMileage</th>\n",
       "      <th>VehModel</th>\n",
       "      <th>VehPriceLabel</th>\n",
       "      <th>VehSellerNotes</th>\n",
       "      <th>VehType</th>\n",
       "      <th>VehTransmission</th>\n",
       "      <th>VehYear</th>\n",
       "      <th>Vehicle_Trim</th>\n",
       "      <th>Dealer_Listing_Price</th>\n",
       "    </tr>\n",
       "    <tr>\n",
       "      <th>ListingID</th>\n",
       "      <th></th>\n",
       "      <th></th>\n",
       "      <th></th>\n",
       "      <th></th>\n",
       "      <th></th>\n",
       "      <th></th>\n",
       "      <th></th>\n",
       "      <th></th>\n",
       "      <th></th>\n",
       "      <th></th>\n",
       "      <th></th>\n",
       "      <th></th>\n",
       "      <th></th>\n",
       "      <th></th>\n",
       "      <th></th>\n",
       "      <th></th>\n",
       "      <th></th>\n",
       "      <th></th>\n",
       "      <th></th>\n",
       "      <th></th>\n",
       "      <th></th>\n",
       "    </tr>\n",
       "  </thead>\n",
       "  <tbody>\n",
       "    <tr>\n",
       "      <th>3287</th>\n",
       "      <td>Warren</td>\n",
       "      <td>False</td>\n",
       "      <td>Inventory Command Center</td>\n",
       "      <td>Prime Motorz</td>\n",
       "      <td>5.0</td>\n",
       "      <td>32</td>\n",
       "      <td>MI</td>\n",
       "      <td>48091.0</td>\n",
       "      <td>SUV</td>\n",
       "      <td>False</td>\n",
       "      <td>...</td>\n",
       "      <td>Jeep</td>\n",
       "      <td>39319.0</td>\n",
       "      <td>Grand Cherokee</td>\n",
       "      <td>Fair Price</td>\n",
       "      <td>NaN</td>\n",
       "      <td>Used</td>\n",
       "      <td>Automatic 8-Speed</td>\n",
       "      <td>2015</td>\n",
       "      <td>High Altitude</td>\n",
       "      <td>30990.0</td>\n",
       "    </tr>\n",
       "    <tr>\n",
       "      <th>3920</th>\n",
       "      <td>Fargo</td>\n",
       "      <td>False</td>\n",
       "      <td>Cadillac Certified Program</td>\n",
       "      <td>Gateway Chevrolet Cadillac</td>\n",
       "      <td>4.8</td>\n",
       "      <td>1456</td>\n",
       "      <td>ND</td>\n",
       "      <td>58103.0</td>\n",
       "      <td>SUV</td>\n",
       "      <td>True</td>\n",
       "      <td>...</td>\n",
       "      <td>Cadillac</td>\n",
       "      <td>30352.0</td>\n",
       "      <td>XT5</td>\n",
       "      <td>Good Deal</td>\n",
       "      <td>Come take a look at our great pre-owned invent...</td>\n",
       "      <td>Used</td>\n",
       "      <td>NaN</td>\n",
       "      <td>2017</td>\n",
       "      <td>NaN</td>\n",
       "      <td>34860.0</td>\n",
       "    </tr>\n",
       "    <tr>\n",
       "      <th>4777</th>\n",
       "      <td>Waukesha</td>\n",
       "      <td>False</td>\n",
       "      <td>Jeep Certified Program</td>\n",
       "      <td>Wilde Chrysler Jeep Dodge Ram &amp;amp; Subaru</td>\n",
       "      <td>4.8</td>\n",
       "      <td>1405</td>\n",
       "      <td>WI</td>\n",
       "      <td>53186.0</td>\n",
       "      <td>SUV</td>\n",
       "      <td>True</td>\n",
       "      <td>...</td>\n",
       "      <td>Jeep</td>\n",
       "      <td>38957.0</td>\n",
       "      <td>Grand Cherokee</td>\n",
       "      <td>Good Deal</td>\n",
       "      <td>Backed by a rigorous 125-point inspection by f...</td>\n",
       "      <td>Used</td>\n",
       "      <td>8-Speed Automatic w/OD</td>\n",
       "      <td>2015</td>\n",
       "      <td>Laredo</td>\n",
       "      <td>23249.0</td>\n",
       "    </tr>\n",
       "    <tr>\n",
       "      <th>6242</th>\n",
       "      <td>Wentzville</td>\n",
       "      <td>False</td>\n",
       "      <td>Inventory Command Center</td>\n",
       "      <td>Century Dodge Chrysler Jeep RAM</td>\n",
       "      <td>4.4</td>\n",
       "      <td>21</td>\n",
       "      <td>MO</td>\n",
       "      <td>63385.0</td>\n",
       "      <td>SUV</td>\n",
       "      <td>False</td>\n",
       "      <td>...</td>\n",
       "      <td>Jeep</td>\n",
       "      <td>20404.0</td>\n",
       "      <td>Grand Cherokee</td>\n",
       "      <td>Good Deal</td>\n",
       "      <td>Drop by to see us and you will quickly see how...</td>\n",
       "      <td>Used</td>\n",
       "      <td>Automatic</td>\n",
       "      <td>2018</td>\n",
       "      <td>Limited</td>\n",
       "      <td>31977.0</td>\n",
       "    </tr>\n",
       "    <tr>\n",
       "      <th>7108</th>\n",
       "      <td>Fayetteville</td>\n",
       "      <td>False</td>\n",
       "      <td>HomeNet Automotive</td>\n",
       "      <td>Superior Buick GMC of Fayetteville</td>\n",
       "      <td>3.7</td>\n",
       "      <td>74</td>\n",
       "      <td>AR</td>\n",
       "      <td>72703.0</td>\n",
       "      <td>SUV</td>\n",
       "      <td>False</td>\n",
       "      <td>...</td>\n",
       "      <td>Cadillac</td>\n",
       "      <td>19788.0</td>\n",
       "      <td>XT5</td>\n",
       "      <td>Good Deal</td>\n",
       "      <td>Luxury, Exterior Parking Camera Rear, Front Du...</td>\n",
       "      <td>Used</td>\n",
       "      <td>8-Speed Automatic</td>\n",
       "      <td>2018</td>\n",
       "      <td>Luxury</td>\n",
       "      <td>33495.0</td>\n",
       "    </tr>\n",
       "  </tbody>\n",
       "</table>\n",
       "<p>5 rows × 28 columns</p>\n",
       "</div>"
      ],
      "text/plain": [
       "             SellerCity  SellerIsPriv               SellerListSrc  \\\n",
       "ListingID                                                           \n",
       "3287             Warren         False    Inventory Command Center   \n",
       "3920              Fargo         False  Cadillac Certified Program   \n",
       "4777           Waukesha         False      Jeep Certified Program   \n",
       "6242         Wentzville         False    Inventory Command Center   \n",
       "7108       Fayetteville         False          HomeNet Automotive   \n",
       "\n",
       "                                           SellerName  SellerRating  \\\n",
       "ListingID                                                             \n",
       "3287                                     Prime Motorz           5.0   \n",
       "3920                       Gateway Chevrolet Cadillac           4.8   \n",
       "4777       Wilde Chrysler Jeep Dodge Ram &amp; Subaru           4.8   \n",
       "6242                  Century Dodge Chrysler Jeep RAM           4.4   \n",
       "7108               Superior Buick GMC of Fayetteville           3.7   \n",
       "\n",
       "           SellerRevCnt SellerState  SellerZip VehBodystyle  VehCertified  \\\n",
       "ListingID                                                                   \n",
       "3287                 32          MI    48091.0          SUV         False   \n",
       "3920               1456          ND    58103.0          SUV          True   \n",
       "4777               1405          WI    53186.0          SUV          True   \n",
       "6242                 21          MO    63385.0          SUV         False   \n",
       "7108                 74          AR    72703.0          SUV         False   \n",
       "\n",
       "           ...   VehMake VehMileage        VehModel VehPriceLabel  \\\n",
       "ListingID  ...                                                      \n",
       "3287       ...      Jeep    39319.0  Grand Cherokee    Fair Price   \n",
       "3920       ...  Cadillac    30352.0             XT5     Good Deal   \n",
       "4777       ...      Jeep    38957.0  Grand Cherokee     Good Deal   \n",
       "6242       ...      Jeep    20404.0  Grand Cherokee     Good Deal   \n",
       "7108       ...  Cadillac    19788.0             XT5     Good Deal   \n",
       "\n",
       "                                              VehSellerNotes VehType  \\\n",
       "ListingID                                                              \n",
       "3287                                                     NaN    Used   \n",
       "3920       Come take a look at our great pre-owned invent...    Used   \n",
       "4777       Backed by a rigorous 125-point inspection by f...    Used   \n",
       "6242       Drop by to see us and you will quickly see how...    Used   \n",
       "7108       Luxury, Exterior Parking Camera Rear, Front Du...    Used   \n",
       "\n",
       "                  VehTransmission  VehYear   Vehicle_Trim  \\\n",
       "ListingID                                                   \n",
       "3287            Automatic 8-Speed     2015  High Altitude   \n",
       "3920                          NaN     2017            NaN   \n",
       "4777       8-Speed Automatic w/OD     2015         Laredo   \n",
       "6242                    Automatic     2018        Limited   \n",
       "7108            8-Speed Automatic     2018         Luxury   \n",
       "\n",
       "           Dealer_Listing_Price  \n",
       "ListingID                        \n",
       "3287                    30990.0  \n",
       "3920                    34860.0  \n",
       "4777                    23249.0  \n",
       "6242                    31977.0  \n",
       "7108                    33495.0  \n",
       "\n",
       "[5 rows x 28 columns]"
      ]
     },
     "execution_count": 10,
     "metadata": {},
     "output_type": "execute_result"
    }
   ],
   "source": [
    "# Reassign index\n",
    "data = hf.reassign_index(raw_training_data)\n",
    "data.head()"
   ]
  },
  {
   "cell_type": "code",
   "execution_count": 11,
   "metadata": {},
   "outputs": [
    {
     "name": "stdout",
     "output_type": "stream",
     "text": [
      "<class 'pandas.core.frame.DataFrame'>\n",
      "Index: 6298 entries, 3287 to 8620012\n",
      "Data columns (total 28 columns):\n",
      " #   Column                Non-Null Count  Dtype  \n",
      "---  ------                --------------  -----  \n",
      " 0   SellerCity            6298 non-null   object \n",
      " 1   SellerIsPriv          6298 non-null   bool   \n",
      " 2   SellerListSrc         6296 non-null   object \n",
      " 3   SellerName            6298 non-null   object \n",
      " 4   SellerRating          6298 non-null   float64\n",
      " 5   SellerRevCnt          6298 non-null   int64  \n",
      " 6   SellerState           6298 non-null   object \n",
      " 7   SellerZip             6296 non-null   float64\n",
      " 8   VehBodystyle          6298 non-null   object \n",
      " 9   VehCertified          6298 non-null   bool   \n",
      " 10  VehColorExt           6225 non-null   object \n",
      " 11  VehColorInt           5570 non-null   object \n",
      " 12  VehDriveTrain         5897 non-null   object \n",
      " 13  VehEngine             5937 non-null   object \n",
      " 14  VehFeats              6023 non-null   object \n",
      " 15  VehFuel               6296 non-null   object \n",
      " 16  VehHistory            6097 non-null   object \n",
      " 17  VehListdays           6296 non-null   float64\n",
      " 18  VehMake               6298 non-null   object \n",
      " 19  VehMileage            6296 non-null   float64\n",
      " 20  VehModel              6298 non-null   object \n",
      " 21  VehPriceLabel         6013 non-null   object \n",
      " 22  VehSellerNotes        6055 non-null   object \n",
      " 23  VehType               6298 non-null   object \n",
      " 24  VehTransmission       6101 non-null   object \n",
      " 25  VehYear               6298 non-null   int64  \n",
      " 26  Vehicle_Trim          5893 non-null   object \n",
      " 27  Dealer_Listing_Price  6246 non-null   float64\n",
      "dtypes: bool(2), float64(5), int64(2), object(19)\n",
      "memory usage: 1.3+ MB\n"
     ]
    }
   ],
   "source": [
    "data.info()"
   ]
  },
  {
   "cell_type": "code",
   "execution_count": 12,
   "metadata": {},
   "outputs": [],
   "source": [
    "data = hf.create_location_column(data)\n",
    "data = hf.create_car_age_column(data)"
   ]
  },
  {
   "cell_type": "code",
   "execution_count": 13,
   "metadata": {},
   "outputs": [
    {
     "ename": "KeyError",
     "evalue": "\"['SellerState', 'SellerCity'] not found in axis\"",
     "output_type": "error",
     "traceback": [
      "\u001b[0;31m---------------------------------------------------------------------------\u001b[0m",
      "\u001b[0;31mKeyError\u001b[0m                                  Traceback (most recent call last)",
      "\u001b[1;32m/Users/kimabcouwer/Projects/data-science-challenge/notebooks/data_preprocessing.ipynb Cell 6\u001b[0m line \u001b[0;36m2\n\u001b[1;32m      <a href='vscode-notebook-cell:/Users/kimabcouwer/Projects/data-science-challenge/notebooks/data_preprocessing.ipynb#X55sZmlsZQ%3D%3D?line=0'>1</a>\u001b[0m \u001b[39m# Drop columns\u001b[39;00m\n\u001b[0;32m----> <a href='vscode-notebook-cell:/Users/kimabcouwer/Projects/data-science-challenge/notebooks/data_preprocessing.ipynb#X55sZmlsZQ%3D%3D?line=1'>2</a>\u001b[0m data \u001b[39m=\u001b[39m hf\u001b[39m.\u001b[39;49mdrop_columns(data)\n\u001b[1;32m      <a href='vscode-notebook-cell:/Users/kimabcouwer/Projects/data-science-challenge/notebooks/data_preprocessing.ipynb#X55sZmlsZQ%3D%3D?line=3'>4</a>\u001b[0m \u001b[39mprint\u001b[39m(\u001b[39m\"\u001b[39m\u001b[39m\\n\u001b[39;00m\u001b[39m Data shape after dropping columns: \u001b[39m\u001b[39m\"\u001b[39m, data\u001b[39m.\u001b[39mshape)\n\u001b[1;32m      <a href='vscode-notebook-cell:/Users/kimabcouwer/Projects/data-science-challenge/notebooks/data_preprocessing.ipynb#X55sZmlsZQ%3D%3D?line=4'>5</a>\u001b[0m data\u001b[39m.\u001b[39minfo()\n",
      "File \u001b[0;32m~/Projects/data-science-challenge/src/utils/helper_functions.py:73\u001b[0m, in \u001b[0;36mdrop_columns\u001b[0;34m(data)\u001b[0m\n\u001b[1;32m     51\u001b[0m \u001b[39mdef\u001b[39;00m \u001b[39mdrop_columns\u001b[39m(data):\n\u001b[1;32m     52\u001b[0m   \u001b[39m# Drop columns\u001b[39;00m\n\u001b[1;32m     53\u001b[0m   columns_to_drop \u001b[39m=\u001b[39m [\n\u001b[1;32m     54\u001b[0m     \u001b[39m'\u001b[39m\u001b[39mSellerListSrc\u001b[39m\u001b[39m'\u001b[39m,\n\u001b[1;32m     55\u001b[0m     \u001b[39m'\u001b[39m\u001b[39mSellerName\u001b[39m\u001b[39m'\u001b[39m,\n\u001b[0;32m   (...)\u001b[0m\n\u001b[1;32m     70\u001b[0m     \u001b[39m'\u001b[39m\u001b[39mVehicle_Trim\u001b[39m\u001b[39m'\u001b[39m\n\u001b[1;32m     71\u001b[0m     ]\n\u001b[0;32m---> 73\u001b[0m   \u001b[39mreturn\u001b[39;00m data\u001b[39m.\u001b[39;49mdrop(columns_to_drop, axis\u001b[39m=\u001b[39;49m\u001b[39m1\u001b[39;49m)\n",
      "File \u001b[0;32m~/Projects/data-science-challenge/venv/lib/python3.11/site-packages/pandas/core/frame.py:5344\u001b[0m, in \u001b[0;36mDataFrame.drop\u001b[0;34m(self, labels, axis, index, columns, level, inplace, errors)\u001b[0m\n\u001b[1;32m   5196\u001b[0m \u001b[39mdef\u001b[39;00m \u001b[39mdrop\u001b[39m(\n\u001b[1;32m   5197\u001b[0m     \u001b[39mself\u001b[39m,\n\u001b[1;32m   5198\u001b[0m     labels: IndexLabel \u001b[39m|\u001b[39m \u001b[39mNone\u001b[39;00m \u001b[39m=\u001b[39m \u001b[39mNone\u001b[39;00m,\n\u001b[0;32m   (...)\u001b[0m\n\u001b[1;32m   5205\u001b[0m     errors: IgnoreRaise \u001b[39m=\u001b[39m \u001b[39m\"\u001b[39m\u001b[39mraise\u001b[39m\u001b[39m\"\u001b[39m,\n\u001b[1;32m   5206\u001b[0m ) \u001b[39m-\u001b[39m\u001b[39m>\u001b[39m DataFrame \u001b[39m|\u001b[39m \u001b[39mNone\u001b[39;00m:\n\u001b[1;32m   5207\u001b[0m \u001b[39m    \u001b[39m\u001b[39m\"\"\"\u001b[39;00m\n\u001b[1;32m   5208\u001b[0m \u001b[39m    Drop specified labels from rows or columns.\u001b[39;00m\n\u001b[1;32m   5209\u001b[0m \n\u001b[0;32m   (...)\u001b[0m\n\u001b[1;32m   5342\u001b[0m \u001b[39m            weight  1.0     0.8\u001b[39;00m\n\u001b[1;32m   5343\u001b[0m \u001b[39m    \"\"\"\u001b[39;00m\n\u001b[0;32m-> 5344\u001b[0m     \u001b[39mreturn\u001b[39;00m \u001b[39msuper\u001b[39;49m()\u001b[39m.\u001b[39;49mdrop(\n\u001b[1;32m   5345\u001b[0m         labels\u001b[39m=\u001b[39;49mlabels,\n\u001b[1;32m   5346\u001b[0m         axis\u001b[39m=\u001b[39;49maxis,\n\u001b[1;32m   5347\u001b[0m         index\u001b[39m=\u001b[39;49mindex,\n\u001b[1;32m   5348\u001b[0m         columns\u001b[39m=\u001b[39;49mcolumns,\n\u001b[1;32m   5349\u001b[0m         level\u001b[39m=\u001b[39;49mlevel,\n\u001b[1;32m   5350\u001b[0m         inplace\u001b[39m=\u001b[39;49minplace,\n\u001b[1;32m   5351\u001b[0m         errors\u001b[39m=\u001b[39;49merrors,\n\u001b[1;32m   5352\u001b[0m     )\n",
      "File \u001b[0;32m~/Projects/data-science-challenge/venv/lib/python3.11/site-packages/pandas/core/generic.py:4711\u001b[0m, in \u001b[0;36mNDFrame.drop\u001b[0;34m(self, labels, axis, index, columns, level, inplace, errors)\u001b[0m\n\u001b[1;32m   4709\u001b[0m \u001b[39mfor\u001b[39;00m axis, labels \u001b[39min\u001b[39;00m axes\u001b[39m.\u001b[39mitems():\n\u001b[1;32m   4710\u001b[0m     \u001b[39mif\u001b[39;00m labels \u001b[39mis\u001b[39;00m \u001b[39mnot\u001b[39;00m \u001b[39mNone\u001b[39;00m:\n\u001b[0;32m-> 4711\u001b[0m         obj \u001b[39m=\u001b[39m obj\u001b[39m.\u001b[39;49m_drop_axis(labels, axis, level\u001b[39m=\u001b[39;49mlevel, errors\u001b[39m=\u001b[39;49merrors)\n\u001b[1;32m   4713\u001b[0m \u001b[39mif\u001b[39;00m inplace:\n\u001b[1;32m   4714\u001b[0m     \u001b[39mself\u001b[39m\u001b[39m.\u001b[39m_update_inplace(obj)\n",
      "File \u001b[0;32m~/Projects/data-science-challenge/venv/lib/python3.11/site-packages/pandas/core/generic.py:4753\u001b[0m, in \u001b[0;36mNDFrame._drop_axis\u001b[0;34m(self, labels, axis, level, errors, only_slice)\u001b[0m\n\u001b[1;32m   4751\u001b[0m         new_axis \u001b[39m=\u001b[39m axis\u001b[39m.\u001b[39mdrop(labels, level\u001b[39m=\u001b[39mlevel, errors\u001b[39m=\u001b[39merrors)\n\u001b[1;32m   4752\u001b[0m     \u001b[39melse\u001b[39;00m:\n\u001b[0;32m-> 4753\u001b[0m         new_axis \u001b[39m=\u001b[39m axis\u001b[39m.\u001b[39;49mdrop(labels, errors\u001b[39m=\u001b[39;49merrors)\n\u001b[1;32m   4754\u001b[0m     indexer \u001b[39m=\u001b[39m axis\u001b[39m.\u001b[39mget_indexer(new_axis)\n\u001b[1;32m   4756\u001b[0m \u001b[39m# Case for non-unique axis\u001b[39;00m\n\u001b[1;32m   4757\u001b[0m \u001b[39melse\u001b[39;00m:\n",
      "File \u001b[0;32m~/Projects/data-science-challenge/venv/lib/python3.11/site-packages/pandas/core/indexes/base.py:6992\u001b[0m, in \u001b[0;36mIndex.drop\u001b[0;34m(self, labels, errors)\u001b[0m\n\u001b[1;32m   6990\u001b[0m \u001b[39mif\u001b[39;00m mask\u001b[39m.\u001b[39many():\n\u001b[1;32m   6991\u001b[0m     \u001b[39mif\u001b[39;00m errors \u001b[39m!=\u001b[39m \u001b[39m\"\u001b[39m\u001b[39mignore\u001b[39m\u001b[39m\"\u001b[39m:\n\u001b[0;32m-> 6992\u001b[0m         \u001b[39mraise\u001b[39;00m \u001b[39mKeyError\u001b[39;00m(\u001b[39mf\u001b[39m\u001b[39m\"\u001b[39m\u001b[39m{\u001b[39;00mlabels[mask]\u001b[39m.\u001b[39mtolist()\u001b[39m}\u001b[39;00m\u001b[39m not found in axis\u001b[39m\u001b[39m\"\u001b[39m)\n\u001b[1;32m   6993\u001b[0m     indexer \u001b[39m=\u001b[39m indexer[\u001b[39m~\u001b[39mmask]\n\u001b[1;32m   6994\u001b[0m \u001b[39mreturn\u001b[39;00m \u001b[39mself\u001b[39m\u001b[39m.\u001b[39mdelete(indexer)\n",
      "\u001b[0;31mKeyError\u001b[0m: \"['SellerState', 'SellerCity'] not found in axis\""
     ]
    }
   ],
   "source": [
    "# Drop columns\n",
    "data = hf.drop_columns(data)\n",
    "\n",
    "print(\"\\n Data shape after dropping columns: \", data.shape)\n",
    "data.info()"
   ]
  },
  {
   "cell_type": "code",
   "execution_count": null,
   "metadata": {},
   "outputs": [
    {
     "name": "stdout",
     "output_type": "stream",
     "text": [
      "\n",
      " Data shape after dropping rows with missing values:  (5472, 13)\n",
      "\n",
      " Number of missing records in each column:\n",
      " SellerIsPriv            0\n",
      "SellerRating            0\n",
      "VehColorExt             0\n",
      "VehDriveTrain           0\n",
      "VehFeats                0\n",
      "VehFuel                 0\n",
      "VehHistory              0\n",
      "VehMake                 0\n",
      "VehMileage              0\n",
      "VehPriceLabel           0\n",
      "Dealer_Listing_Price    0\n",
      "SellerLocation          0\n",
      "Car_Age                 0\n",
      "dtype: int64\n"
     ]
    }
   ],
   "source": [
    "# Drop rows with missing values\n",
    "data = data.dropna()\n",
    "\n",
    "# Data shape after dropping rows with missing values\n",
    "print(\"\\n Data shape after dropping rows with missing values: \", data.shape)\n",
    "\n",
    "# Display the number of missing records is each column\n",
    "print(\"\\n Number of missing records in each column:\\n\", data.isnull().sum())"
   ]
  },
  {
   "cell_type": "code",
   "execution_count": null,
   "metadata": {},
   "outputs": [
    {
     "data": {
      "text/plain": [
       "SellerIsPriv            0.0\n",
       "SellerRating            0.0\n",
       "VehColorExt             0.0\n",
       "VehDriveTrain           0.0\n",
       "VehFeats                0.0\n",
       "VehFuel                 0.0\n",
       "VehHistory              0.0\n",
       "VehMake                 0.0\n",
       "VehMileage              0.0\n",
       "VehPriceLabel           0.0\n",
       "Dealer_Listing_Price    0.0\n",
       "SellerLocation          0.0\n",
       "Car_Age                 0.0\n",
       "dtype: float64"
      ]
     },
     "execution_count": 42,
     "metadata": {},
     "output_type": "execute_result"
    }
   ],
   "source": [
    "# Display the percentage of missing records in each column\n",
    "(data.isnull().sum()/(len(data)))*100"
   ]
  },
  {
   "cell_type": "code",
   "execution_count": null,
   "metadata": {},
   "outputs": [
    {
     "name": "stdout",
     "output_type": "stream",
     "text": [
      "\n",
      " Number of unique values in each column: \n"
     ]
    },
    {
     "data": {
      "text/plain": [
       "SellerIsPriv               1\n",
       "SellerRating              40\n",
       "VehColorExt              163\n",
       "VehDriveTrain             17\n",
       "VehFeats                 753\n",
       "VehFuel                    4\n",
       "VehHistory                32\n",
       "VehMake                    2\n",
       "VehMileage              4631\n",
       "VehPriceLabel              3\n",
       "Dealer_Listing_Price    2626\n",
       "SellerLocation          1369\n",
       "Car_Age                    5\n",
       "dtype: int64"
      ]
     },
     "execution_count": 43,
     "metadata": {},
     "output_type": "execute_result"
    }
   ],
   "source": [
    "print(\"\\n Number of unique values in each column: \")\n",
    "data.nunique()\n"
   ]
  },
  {
   "cell_type": "code",
   "execution_count": null,
   "metadata": {},
   "outputs": [
    {
     "name": "stdout",
     "output_type": "stream",
     "text": [
      "\n",
      " VehColorExt values: \n"
     ]
    },
    {
     "data": {
      "text/plain": [
       "VehColorExt\n",
       "Bright White Clearcoat                 546\n",
       "Brilliant Black Crystal Pearlcoat      354\n",
       "Billet Silver Metallic Clearcoat       341\n",
       "Stellar Black Metallic                 304\n",
       "Radiant Silver Metallic                253\n",
       "                                      ... \n",
       "True Blue Pearl                          1\n",
       "Beige                                    1\n",
       "Other                                    1\n",
       "Granite Chrystal Metallic Clearcoat      1\n",
       "Steel Gray                               1\n",
       "Name: count, Length: 163, dtype: int64"
      ]
     },
     "execution_count": 44,
     "metadata": {},
     "output_type": "execute_result"
    }
   ],
   "source": [
    "# Examine VehColorExt values\n",
    "print(\"\\n VehColorExt values: \")\n",
    "data[\"VehColorExt\"].value_counts()"
   ]
  },
  {
   "cell_type": "code",
   "execution_count": null,
   "metadata": {},
   "outputs": [],
   "source": [
    "# Examine Veh Trim values\n",
    "# print(\"\\n Veh Trim values: \")\n",
    "# data[\"Vehicle_Trim\"].value_counts()"
   ]
  },
  {
   "cell_type": "code",
   "execution_count": null,
   "metadata": {},
   "outputs": [
    {
     "name": "stdout",
     "output_type": "stream",
     "text": [
      "\n",
      " VehDriveTrain values: \n"
     ]
    },
    {
     "data": {
      "text/plain": [
       "VehDriveTrain\n",
       "4WD                                                           3614\n",
       "FWD                                                           1020\n",
       "AWD                                                            689\n",
       "4X4                                                             41\n",
       "Four Wheel Drive                                                35\n",
       "All Wheel Drive                                                 19\n",
       "Front Wheel Drive                                               16\n",
       "4x4                                                             12\n",
       "4x4/4WD                                                          9\n",
       "AWD or 4x4                                                       6\n",
       "All-wheel Drive                                                  5\n",
       "ALL WHEEL                                                        1\n",
       "AllWheelDrive                                                    1\n",
       "ALL-WHEEL DRIVE WITH LOCKING AND LIMITED-SLIP DIFFERENTIAL       1\n",
       "2WD                                                              1\n",
       "Front-wheel Drive                                                1\n",
       "4WD/AWD                                                          1\n",
       "Name: count, dtype: int64"
      ]
     },
     "execution_count": 46,
     "metadata": {},
     "output_type": "execute_result"
    }
   ],
   "source": [
    "# Examine VehDriveTrain values\n",
    "print(\"\\n VehDriveTrain values: \")\n",
    "data[\"VehDriveTrain\"].value_counts()"
   ]
  },
  {
   "cell_type": "code",
   "execution_count": null,
   "metadata": {},
   "outputs": [],
   "source": [
    "# Examine VehEngine values\n",
    "# print(\"\\n VehEngine values: \")\n",
    "# data[\"VehEngine\"].value_counts()"
   ]
  },
  {
   "cell_type": "code",
   "execution_count": null,
   "metadata": {},
   "outputs": [
    {
     "name": "stdout",
     "output_type": "stream",
     "text": [
      "\n",
      " VehFuel values: \n"
     ]
    },
    {
     "data": {
      "text/plain": [
       "VehFuel\n",
       "Gasoline         5100\n",
       "E85 Flex Fuel     327\n",
       "Diesel             37\n",
       "Unknown             8\n",
       "Name: count, dtype: int64"
      ]
     },
     "execution_count": 48,
     "metadata": {},
     "output_type": "execute_result"
    }
   ],
   "source": [
    "# Examine VehFuel values\n",
    "print(\"\\n VehFuel values: \")\n",
    "data[\"VehFuel\"].value_counts()"
   ]
  },
  {
   "cell_type": "code",
   "execution_count": null,
   "metadata": {},
   "outputs": [
    {
     "name": "stdout",
     "output_type": "stream",
     "text": [
      "\n",
      " VehPriceLabel values: \n"
     ]
    },
    {
     "data": {
      "text/plain": [
       "VehPriceLabel\n",
       "Good Deal     4088\n",
       "Great Deal     775\n",
       "Fair Price     609\n",
       "Name: count, dtype: int64"
      ]
     },
     "execution_count": 49,
     "metadata": {},
     "output_type": "execute_result"
    }
   ],
   "source": [
    "# Examine VehPriceLabel values\n",
    "print(\"\\n VehPriceLabel values: \")\n",
    "data[\"VehPriceLabel\"].value_counts()"
   ]
  },
  {
   "cell_type": "code",
   "execution_count": null,
   "metadata": {},
   "outputs": [
    {
     "name": "stdout",
     "output_type": "stream",
     "text": [
      "\n",
      " VehFeats values: \n"
     ]
    },
    {
     "data": {
      "text/plain": [
       "VehFeats\n",
       "['1st and 2nd row curtain head airbags', '4-wheel ABS Brakes', 'ABS and Driveline Traction Control', 'Anti-theft alarm system', 'Audio controls on steering wheel', 'Audio system memory card slot', 'Auxilliary engine cooler', 'Braking Assist']                                                                                                                                                                                                                                                                                                                                                                                                                                                                                                                                                                                                                                                                                                                                                                                                                812\n",
       "['1st and 2nd row curtain head airbags', '4-wheel ABS Brakes', 'ABS and Driveline Traction Control', 'AM/FM/Satellite-prep Radio', 'Audio controls on steering wheel', 'Audio system memory card slot', 'Automatic front air conditioning', 'Auxilliary engine cooler']                                                                                                                                                                                                                                                                                                                                                                                                                                                                                                                                                                                                                                                                                                                                                                                           540\n",
       "['1st and 2nd row curtain head airbags', '4-wheel ABS Brakes', 'ABS and Driveline Traction Control', 'Aluminum door trim', 'Audio controls on steering wheel', 'Audio System Premium Brand Speakers: Bose Studio Surround', 'Audio system security', 'Beverage cooler in glovebox']                                                                                                                                                                                                                                                                                                                                                                                                                                                                                                                                                                                                                                                                                                                                                                               292\n",
       "['1st and 2nd row curtain head airbags', '4-wheel ABS Brakes', 'ABS and Driveline Traction Control', 'Anti-theft alarm system', 'Audio controls on steering wheel', 'Auxilliary engine cooler', 'Braking Assist', 'Bucket front seats']                                                                                                                                                                                                                                                                                                                                                                                                                                                                                                                                                                                                                                                                                                                                                                                                                           275\n",
       "['1st and 2nd row curtain head airbags', '4-wheel ABS Brakes', 'ABS and Driveline Traction Control', 'Anti-theft alarm system', 'Audio controls on steering wheel', 'Audio system memory card slot', 'Braking Assist', 'Bucket front seats']                                                                                                                                                                                                                                                                                                                                                                                                                                                                                                                                                                                                                                                                                                                                                                                                                      225\n",
       "                                                                                                                                                                                                                                                                                                                                                                                                                                                                                                                                                                                                                                                                                                                                                                                                                                                                                                                                                                                                                                                                 ... \n",
       "['AUDIO SYSTEM FEATUREBOSE STUDIO SURROUND SOUND 14-SPEAKER SYSTEMwith surround amplifier', 'BRONZE DUNE METALLIC', 'CADILLAC USER EXPERIENCE WITH EMBEDDED NAVIGATIONAM/FM STEREOwith 8 diagonal color information displayfour USB portstwo auxiliary power outletsauxiliary input jackNatural Voice Recognition and Phone Integration for Apple CarPlay and Android Auto capability for compatible phone', 'CARGO NETLATERAL MESH', 'CLIMATE CONTROLTRI-ZONE AUTOMATICwith individual climate settings for driverright-front passenger and rear passengers (includes rear air vents) Includes (KA6) heated rear seats.)', 'DRIVER AWARENESS PACKAGEincludes (HS1) Safety Alert Seat(UEU) Forward Collision Alert(UE4) Following Distance Indicator(UHX) Lane Keep Assist with Lane Departure Warning(UKJ) Front Pedestrian Braking(UHY) Low Speed Forward Automatic Braking and (TQ5) IntelliBeam', 'ENGINE3.6L V6DIVVTWITH AUTOMATIC STOP/START(310 hp [231 kW] @ 6600 rpm271 lb-ft of torque [366 N-m] @ 5000 rpm) (STD)', 'FOLLOWING DISTANCE INDICATOR']      1\n",
       "['Anti-whiplash front head restrai', 'Antilock Brakes', 'Audio Controls On Steering Wheel', 'Audio memory', 'Auto-dimming door mirrors', 'Auto-dimming Rear-View mirror', 'Automatic temperature control', 'Auxiliary Input']                                                                                                                                                                                                                                                                                                                                                                                                                                                                                                                                                                                                                                                                                                                                                                                                                                       1\n",
       "['ABS brakes', 'Air Conditioning', 'AM/FM radio: SiriusXM', 'Auto-dimming door mirrors', 'Auto-dimming Rear-View mirror', 'Automatic Dual-Zone Climate Control', 'Automatic temperature control', 'Blind spot sensor: Lane Change Alert with Side Blind Zone Alert warning']                                                                                                                                                                                                                                                                                                                                                                                                                                                                                                                                                                                                                                                                                                                                                                                        1\n",
       "['ABS Brake', 'Air Conditioning - Front - Automatic Climate Control', 'Air Conditioning - Front - Dual Zones', 'Airbags - Driver - Knee', 'Airbags - Front - Dual', 'Airbags - Front - Side', 'Airbags - Front - Side Curtain', 'Airbags - Passenger - Occupant Sensing Deactivation']                                                                                                                                                                                                                                                                                                                                                                                                                                                                                                                                                                                                                                                                                                                                                                              1\n",
       "['ABS Brakes,4x4,4WD/AWD', 'Air Conditioning', 'Alarm System', 'Alloy Wheels', 'Alloy Wheels', 'AM/FM', 'Anti-Lock Brakes', 'Antilock Brakes']                                                                                                                                                                                                                                                                                                                                                                                                                                                                                                                                                                                                                                                                                                                                                                                                                                                                                                                      1\n",
       "Name: count, Length: 753, dtype: int64"
      ]
     },
     "execution_count": 50,
     "metadata": {},
     "output_type": "execute_result"
    }
   ],
   "source": [
    "# Examine VehFeats values\n",
    "print(\"\\n VehFeats values: \")\n",
    "data[\"VehFeats\"].value_counts()"
   ]
  },
  {
   "cell_type": "code",
   "execution_count": null,
   "metadata": {},
   "outputs": [
    {
     "name": "stdout",
     "output_type": "stream",
     "text": [
      "\n",
      " Cleaning data...\n",
      "\n",
      " Number of unique values in each column: \n"
     ]
    },
    {
     "data": {
      "text/plain": [
       "SellerIsPriv               1\n",
       "SellerRating              40\n",
       "VehColorExt               13\n",
       "VehDriveTrain              4\n",
       "VehFeats                 748\n",
       "VehFuel                    3\n",
       "VehMake                    2\n",
       "VehMileage              4616\n",
       "VehPriceLabel              3\n",
       "Dealer_Listing_Price    2621\n",
       "SellerLocation          1367\n",
       "Car_Age                    5\n",
       "Num_Owners                 5\n",
       "Accident                   2\n",
       "dtype: int64"
      ]
     },
     "execution_count": 51,
     "metadata": {},
     "output_type": "execute_result"
    }
   ],
   "source": [
    "# Clean data\n",
    "print(\"\\n Cleaning data...\")\n",
    "data = hf.clean_data(data)\n",
    "data = data.dropna()\n",
    "\n",
    "print(\"\\n Number of unique values in each column: \")\n",
    "data.nunique()"
   ]
  },
  {
   "cell_type": "code",
   "execution_count": null,
   "metadata": {},
   "outputs": [
    {
     "name": "stdout",
     "output_type": "stream",
     "text": [
      "\n",
      " VehColorExt values: \n"
     ]
    },
    {
     "data": {
      "text/plain": [
       "VehColorExt\n",
       "White     1810\n",
       "Silver    1094\n",
       "Gray      1000\n",
       "Red        648\n",
       "Black      635\n",
       "Blue       168\n",
       "Brown       54\n",
       "Gold        19\n",
       "Green       14\n",
       "Bronze       4\n",
       "Purple       3\n",
       "Beige        2\n",
       "Pink         2\n",
       "Name: count, dtype: int64"
      ]
     },
     "execution_count": 52,
     "metadata": {},
     "output_type": "execute_result"
    }
   ],
   "source": [
    "# Examine VehColorExt values after cleaning\n",
    "print(\"\\n VehColorExt values: \")\n",
    "data[\"VehColorExt\"].value_counts()"
   ]
  },
  {
   "cell_type": "code",
   "execution_count": null,
   "metadata": {},
   "outputs": [],
   "source": [
    "# Examine Veh Trim values after cleaning\n",
    "# print(\"\\n Veh Trim values: \")\n",
    "# data[\"Vehicle_Trim\"].value_counts()"
   ]
  },
  {
   "cell_type": "code",
   "execution_count": null,
   "metadata": {},
   "outputs": [
    {
     "name": "stdout",
     "output_type": "stream",
     "text": [
      "\n",
      " VehDriveTrain values: \n"
     ]
    },
    {
     "data": {
      "text/plain": [
       "VehDriveTrain\n",
       "4WD    3693\n",
       "FWD    1036\n",
       "AWD     723\n",
       "2WD       1\n",
       "Name: count, dtype: int64"
      ]
     },
     "execution_count": 54,
     "metadata": {},
     "output_type": "execute_result"
    }
   ],
   "source": [
    "# Examine VehDriveTrain values after cleaning\n",
    "print(\"\\n VehDriveTrain values: \")\n",
    "data[\"VehDriveTrain\"].value_counts()"
   ]
  },
  {
   "cell_type": "code",
   "execution_count": null,
   "metadata": {},
   "outputs": [],
   "source": [
    "# Examine VehEngine values\n",
    "# print(\"\\n VehEngine values: \")\n",
    "# data[\"VehEngine\"].value_counts()"
   ]
  },
  {
   "cell_type": "code",
   "execution_count": null,
   "metadata": {},
   "outputs": [
    {
     "name": "stdout",
     "output_type": "stream",
     "text": [
      "\n",
      " VehPriceLabel values: \n"
     ]
    },
    {
     "data": {
      "text/plain": [
       "VehPriceLabel\n",
       "Good Deal     4077\n",
       "Great Deal     772\n",
       "Fair Price     604\n",
       "Name: count, dtype: int64"
      ]
     },
     "execution_count": 56,
     "metadata": {},
     "output_type": "execute_result"
    }
   ],
   "source": [
    "# Examine VehPriceLabel values\n",
    "print(\"\\n VehPriceLabel values: \")\n",
    "data[\"VehPriceLabel\"].value_counts()"
   ]
  },
  {
   "cell_type": "code",
   "execution_count": null,
   "metadata": {},
   "outputs": [
    {
     "data": {
      "text/plain": [
       "SellerIsPriv               1\n",
       "SellerRating              40\n",
       "VehColorExt               13\n",
       "VehDriveTrain              4\n",
       "VehFeats                 748\n",
       "VehFuel                    3\n",
       "VehMake                    2\n",
       "VehMileage              4616\n",
       "VehPriceLabel              3\n",
       "Dealer_Listing_Price    2621\n",
       "SellerLocation          1367\n",
       "Car_Age                    5\n",
       "Num_Owners                 5\n",
       "Accident                   2\n",
       "dtype: int64"
      ]
     },
     "execution_count": 57,
     "metadata": {},
     "output_type": "execute_result"
    }
   ],
   "source": [
    "data.nunique()"
   ]
  },
  {
   "cell_type": "code",
   "execution_count": null,
   "metadata": {},
   "outputs": [
    {
     "name": "stdout",
     "output_type": "stream",
     "text": [
      "\n",
      "Processed data:\n"
     ]
    },
    {
     "data": {
      "text/html": [
       "<div>\n",
       "<style scoped>\n",
       "    .dataframe tbody tr th:only-of-type {\n",
       "        vertical-align: middle;\n",
       "    }\n",
       "\n",
       "    .dataframe tbody tr th {\n",
       "        vertical-align: top;\n",
       "    }\n",
       "\n",
       "    .dataframe thead th {\n",
       "        text-align: right;\n",
       "    }\n",
       "</style>\n",
       "<table border=\"1\" class=\"dataframe\">\n",
       "  <thead>\n",
       "    <tr style=\"text-align: right;\">\n",
       "      <th></th>\n",
       "      <th>SellerIsPriv</th>\n",
       "      <th>SellerRating</th>\n",
       "      <th>VehColorExt</th>\n",
       "      <th>VehDriveTrain</th>\n",
       "      <th>VehFeats</th>\n",
       "      <th>VehFuel</th>\n",
       "      <th>VehMake</th>\n",
       "      <th>VehMileage</th>\n",
       "      <th>VehPriceLabel</th>\n",
       "      <th>Dealer_Listing_Price</th>\n",
       "      <th>SellerLocation</th>\n",
       "      <th>Car_Age</th>\n",
       "      <th>Num_Owners</th>\n",
       "      <th>Accident</th>\n",
       "    </tr>\n",
       "    <tr>\n",
       "      <th>ListingID</th>\n",
       "      <th></th>\n",
       "      <th></th>\n",
       "      <th></th>\n",
       "      <th></th>\n",
       "      <th></th>\n",
       "      <th></th>\n",
       "      <th></th>\n",
       "      <th></th>\n",
       "      <th></th>\n",
       "      <th></th>\n",
       "      <th></th>\n",
       "      <th></th>\n",
       "      <th></th>\n",
       "      <th></th>\n",
       "    </tr>\n",
       "  </thead>\n",
       "  <tbody>\n",
       "    <tr>\n",
       "      <th>3287</th>\n",
       "      <td>False</td>\n",
       "      <td>5.0</td>\n",
       "      <td>White</td>\n",
       "      <td>4WD</td>\n",
       "      <td>['Adaptive Cruise Control', 'Antilock Brakes',...</td>\n",
       "      <td>Gasoline</td>\n",
       "      <td>Jeep</td>\n",
       "      <td>39319.0</td>\n",
       "      <td>Fair Price</td>\n",
       "      <td>30990.0</td>\n",
       "      <td>Warren, MI</td>\n",
       "      <td>8</td>\n",
       "      <td>1</td>\n",
       "      <td>0</td>\n",
       "    </tr>\n",
       "    <tr>\n",
       "      <th>4777</th>\n",
       "      <td>False</td>\n",
       "      <td>4.8</td>\n",
       "      <td>White</td>\n",
       "      <td>4WD</td>\n",
       "      <td>['18 WHEEL &amp;amp; 8.4 RADIO GROUP-inc: Nav-Capa...</td>\n",
       "      <td>Gasoline</td>\n",
       "      <td>Jeep</td>\n",
       "      <td>38957.0</td>\n",
       "      <td>Good Deal</td>\n",
       "      <td>23249.0</td>\n",
       "      <td>Waukesha, WI</td>\n",
       "      <td>8</td>\n",
       "      <td>1</td>\n",
       "      <td>0</td>\n",
       "    </tr>\n",
       "    <tr>\n",
       "      <th>6242</th>\n",
       "      <td>False</td>\n",
       "      <td>4.4</td>\n",
       "      <td>White</td>\n",
       "      <td>4WD</td>\n",
       "      <td>['Android Auto', 'Antilock Brakes', 'Apple Car...</td>\n",
       "      <td>Gasoline</td>\n",
       "      <td>Jeep</td>\n",
       "      <td>20404.0</td>\n",
       "      <td>Good Deal</td>\n",
       "      <td>31977.0</td>\n",
       "      <td>Wentzville, MO</td>\n",
       "      <td>5</td>\n",
       "      <td>1</td>\n",
       "      <td>0</td>\n",
       "    </tr>\n",
       "    <tr>\n",
       "      <th>7108</th>\n",
       "      <td>False</td>\n",
       "      <td>3.7</td>\n",
       "      <td>Silver</td>\n",
       "      <td>FWD</td>\n",
       "      <td>['4-Wheel Disc Brakes', 'ABS', 'Adjustable Ste...</td>\n",
       "      <td>Gasoline</td>\n",
       "      <td>Cadillac</td>\n",
       "      <td>19788.0</td>\n",
       "      <td>Good Deal</td>\n",
       "      <td>33495.0</td>\n",
       "      <td>Fayetteville, AR</td>\n",
       "      <td>5</td>\n",
       "      <td>1</td>\n",
       "      <td>0</td>\n",
       "    </tr>\n",
       "    <tr>\n",
       "      <th>10882</th>\n",
       "      <td>False</td>\n",
       "      <td>3.0</td>\n",
       "      <td>Silver</td>\n",
       "      <td>4WD</td>\n",
       "      <td>['1st and 2nd row curtain head airbags', '4-wh...</td>\n",
       "      <td>Gasoline</td>\n",
       "      <td>Jeep</td>\n",
       "      <td>34649.0</td>\n",
       "      <td>Good Deal</td>\n",
       "      <td>27900.0</td>\n",
       "      <td>Olean, NY</td>\n",
       "      <td>5</td>\n",
       "      <td>1</td>\n",
       "      <td>0</td>\n",
       "    </tr>\n",
       "  </tbody>\n",
       "</table>\n",
       "</div>"
      ],
      "text/plain": [
       "           SellerIsPriv  SellerRating VehColorExt VehDriveTrain  \\\n",
       "ListingID                                                         \n",
       "3287              False           5.0       White           4WD   \n",
       "4777              False           4.8       White           4WD   \n",
       "6242              False           4.4       White           4WD   \n",
       "7108              False           3.7      Silver           FWD   \n",
       "10882             False           3.0      Silver           4WD   \n",
       "\n",
       "                                                    VehFeats   VehFuel  \\\n",
       "ListingID                                                                \n",
       "3287       ['Adaptive Cruise Control', 'Antilock Brakes',...  Gasoline   \n",
       "4777       ['18 WHEEL &amp; 8.4 RADIO GROUP-inc: Nav-Capa...  Gasoline   \n",
       "6242       ['Android Auto', 'Antilock Brakes', 'Apple Car...  Gasoline   \n",
       "7108       ['4-Wheel Disc Brakes', 'ABS', 'Adjustable Ste...  Gasoline   \n",
       "10882      ['1st and 2nd row curtain head airbags', '4-wh...  Gasoline   \n",
       "\n",
       "            VehMake  VehMileage VehPriceLabel  Dealer_Listing_Price  \\\n",
       "ListingID                                                             \n",
       "3287           Jeep     39319.0    Fair Price               30990.0   \n",
       "4777           Jeep     38957.0     Good Deal               23249.0   \n",
       "6242           Jeep     20404.0     Good Deal               31977.0   \n",
       "7108       Cadillac     19788.0     Good Deal               33495.0   \n",
       "10882          Jeep     34649.0     Good Deal               27900.0   \n",
       "\n",
       "             SellerLocation  Car_Age Num_Owners  Accident  \n",
       "ListingID                                                  \n",
       "3287             Warren, MI        8          1         0  \n",
       "4777           Waukesha, WI        8          1         0  \n",
       "6242         Wentzville, MO        5          1         0  \n",
       "7108       Fayetteville, AR        5          1         0  \n",
       "10882             Olean, NY        5          1         0  "
      ]
     },
     "execution_count": 58,
     "metadata": {},
     "output_type": "execute_result"
    }
   ],
   "source": [
    "print(\"\\nProcessed data:\")\n",
    "data.head()"
   ]
  },
  {
   "cell_type": "code",
   "execution_count": null,
   "metadata": {},
   "outputs": [
    {
     "name": "stdout",
     "output_type": "stream",
     "text": [
      "<class 'pandas.core.frame.DataFrame'>\n",
      "Index: 5453 entries, 3287 to 8620012\n",
      "Data columns (total 14 columns):\n",
      " #   Column                Non-Null Count  Dtype  \n",
      "---  ------                --------------  -----  \n",
      " 0   SellerIsPriv          5453 non-null   bool   \n",
      " 1   SellerRating          5453 non-null   float64\n",
      " 2   VehColorExt           5453 non-null   object \n",
      " 3   VehDriveTrain         5453 non-null   object \n",
      " 4   VehFeats              5453 non-null   object \n",
      " 5   VehFuel               5453 non-null   object \n",
      " 6   VehMake               5453 non-null   object \n",
      " 7   VehMileage            5453 non-null   float64\n",
      " 8   VehPriceLabel         5453 non-null   object \n",
      " 9   Dealer_Listing_Price  5453 non-null   float64\n",
      " 10  SellerLocation        5453 non-null   object \n",
      " 11  Car_Age               5453 non-null   int64  \n",
      " 12  Num_Owners            5453 non-null   object \n",
      " 13  Accident              5453 non-null   int64  \n",
      "dtypes: bool(1), float64(3), int64(2), object(8)\n",
      "memory usage: 601.7+ KB\n"
     ]
    }
   ],
   "source": [
    "data.info()"
   ]
  },
  {
   "cell_type": "code",
   "execution_count": null,
   "metadata": {},
   "outputs": [
    {
     "data": {
      "text/html": [
       "<div>\n",
       "<style scoped>\n",
       "    .dataframe tbody tr th:only-of-type {\n",
       "        vertical-align: middle;\n",
       "    }\n",
       "\n",
       "    .dataframe tbody tr th {\n",
       "        vertical-align: top;\n",
       "    }\n",
       "\n",
       "    .dataframe thead th {\n",
       "        text-align: right;\n",
       "    }\n",
       "</style>\n",
       "<table border=\"1\" class=\"dataframe\">\n",
       "  <thead>\n",
       "    <tr style=\"text-align: right;\">\n",
       "      <th></th>\n",
       "      <th>SellerIsPriv</th>\n",
       "      <th>SellerRating</th>\n",
       "      <th>VehFeats</th>\n",
       "      <th>VehMake</th>\n",
       "      <th>VehMileage</th>\n",
       "      <th>Dealer_Listing_Price</th>\n",
       "      <th>SellerLocation</th>\n",
       "      <th>Car_Age</th>\n",
       "      <th>Num_Owners</th>\n",
       "      <th>Accident</th>\n",
       "      <th>...</th>\n",
       "      <th>VehColorExt_Red</th>\n",
       "      <th>VehColorExt_Silver</th>\n",
       "      <th>VehColorExt_White</th>\n",
       "      <th>VehFuel_E85 Flex Fuel</th>\n",
       "      <th>VehFuel_Gasoline</th>\n",
       "      <th>VehDriveTrain_4WD</th>\n",
       "      <th>VehDriveTrain_AWD</th>\n",
       "      <th>VehDriveTrain_FWD</th>\n",
       "      <th>VehPriceLabel_Good Deal</th>\n",
       "      <th>VehPriceLabel_Great Deal</th>\n",
       "    </tr>\n",
       "    <tr>\n",
       "      <th>ListingID</th>\n",
       "      <th></th>\n",
       "      <th></th>\n",
       "      <th></th>\n",
       "      <th></th>\n",
       "      <th></th>\n",
       "      <th></th>\n",
       "      <th></th>\n",
       "      <th></th>\n",
       "      <th></th>\n",
       "      <th></th>\n",
       "      <th></th>\n",
       "      <th></th>\n",
       "      <th></th>\n",
       "      <th></th>\n",
       "      <th></th>\n",
       "      <th></th>\n",
       "      <th></th>\n",
       "      <th></th>\n",
       "      <th></th>\n",
       "      <th></th>\n",
       "      <th></th>\n",
       "    </tr>\n",
       "  </thead>\n",
       "  <tbody>\n",
       "    <tr>\n",
       "      <th>3287</th>\n",
       "      <td>False</td>\n",
       "      <td>5.0</td>\n",
       "      <td>['Adaptive Cruise Control', 'Antilock Brakes',...</td>\n",
       "      <td>0</td>\n",
       "      <td>39319.0</td>\n",
       "      <td>30990.0</td>\n",
       "      <td>Warren, MI</td>\n",
       "      <td>8</td>\n",
       "      <td>1</td>\n",
       "      <td>0</td>\n",
       "      <td>...</td>\n",
       "      <td>False</td>\n",
       "      <td>False</td>\n",
       "      <td>True</td>\n",
       "      <td>False</td>\n",
       "      <td>True</td>\n",
       "      <td>True</td>\n",
       "      <td>False</td>\n",
       "      <td>False</td>\n",
       "      <td>False</td>\n",
       "      <td>False</td>\n",
       "    </tr>\n",
       "    <tr>\n",
       "      <th>4777</th>\n",
       "      <td>False</td>\n",
       "      <td>4.8</td>\n",
       "      <td>['18 WHEEL &amp;amp; 8.4 RADIO GROUP-inc: Nav-Capa...</td>\n",
       "      <td>0</td>\n",
       "      <td>38957.0</td>\n",
       "      <td>23249.0</td>\n",
       "      <td>Waukesha, WI</td>\n",
       "      <td>8</td>\n",
       "      <td>1</td>\n",
       "      <td>0</td>\n",
       "      <td>...</td>\n",
       "      <td>False</td>\n",
       "      <td>False</td>\n",
       "      <td>True</td>\n",
       "      <td>False</td>\n",
       "      <td>True</td>\n",
       "      <td>True</td>\n",
       "      <td>False</td>\n",
       "      <td>False</td>\n",
       "      <td>True</td>\n",
       "      <td>False</td>\n",
       "    </tr>\n",
       "    <tr>\n",
       "      <th>6242</th>\n",
       "      <td>False</td>\n",
       "      <td>4.4</td>\n",
       "      <td>['Android Auto', 'Antilock Brakes', 'Apple Car...</td>\n",
       "      <td>0</td>\n",
       "      <td>20404.0</td>\n",
       "      <td>31977.0</td>\n",
       "      <td>Wentzville, MO</td>\n",
       "      <td>5</td>\n",
       "      <td>1</td>\n",
       "      <td>0</td>\n",
       "      <td>...</td>\n",
       "      <td>False</td>\n",
       "      <td>False</td>\n",
       "      <td>True</td>\n",
       "      <td>False</td>\n",
       "      <td>True</td>\n",
       "      <td>True</td>\n",
       "      <td>False</td>\n",
       "      <td>False</td>\n",
       "      <td>True</td>\n",
       "      <td>False</td>\n",
       "    </tr>\n",
       "    <tr>\n",
       "      <th>7108</th>\n",
       "      <td>False</td>\n",
       "      <td>3.7</td>\n",
       "      <td>['4-Wheel Disc Brakes', 'ABS', 'Adjustable Ste...</td>\n",
       "      <td>1</td>\n",
       "      <td>19788.0</td>\n",
       "      <td>33495.0</td>\n",
       "      <td>Fayetteville, AR</td>\n",
       "      <td>5</td>\n",
       "      <td>1</td>\n",
       "      <td>0</td>\n",
       "      <td>...</td>\n",
       "      <td>False</td>\n",
       "      <td>True</td>\n",
       "      <td>False</td>\n",
       "      <td>False</td>\n",
       "      <td>True</td>\n",
       "      <td>False</td>\n",
       "      <td>False</td>\n",
       "      <td>True</td>\n",
       "      <td>True</td>\n",
       "      <td>False</td>\n",
       "    </tr>\n",
       "    <tr>\n",
       "      <th>10882</th>\n",
       "      <td>False</td>\n",
       "      <td>3.0</td>\n",
       "      <td>['1st and 2nd row curtain head airbags', '4-wh...</td>\n",
       "      <td>0</td>\n",
       "      <td>34649.0</td>\n",
       "      <td>27900.0</td>\n",
       "      <td>Olean, NY</td>\n",
       "      <td>5</td>\n",
       "      <td>1</td>\n",
       "      <td>0</td>\n",
       "      <td>...</td>\n",
       "      <td>False</td>\n",
       "      <td>True</td>\n",
       "      <td>False</td>\n",
       "      <td>False</td>\n",
       "      <td>True</td>\n",
       "      <td>True</td>\n",
       "      <td>False</td>\n",
       "      <td>False</td>\n",
       "      <td>True</td>\n",
       "      <td>False</td>\n",
       "    </tr>\n",
       "  </tbody>\n",
       "</table>\n",
       "<p>5 rows × 29 columns</p>\n",
       "</div>"
      ],
      "text/plain": [
       "           SellerIsPriv  SellerRating  \\\n",
       "ListingID                               \n",
       "3287              False           5.0   \n",
       "4777              False           4.8   \n",
       "6242              False           4.4   \n",
       "7108              False           3.7   \n",
       "10882             False           3.0   \n",
       "\n",
       "                                                    VehFeats  VehMake  \\\n",
       "ListingID                                                               \n",
       "3287       ['Adaptive Cruise Control', 'Antilock Brakes',...        0   \n",
       "4777       ['18 WHEEL &amp; 8.4 RADIO GROUP-inc: Nav-Capa...        0   \n",
       "6242       ['Android Auto', 'Antilock Brakes', 'Apple Car...        0   \n",
       "7108       ['4-Wheel Disc Brakes', 'ABS', 'Adjustable Ste...        1   \n",
       "10882      ['1st and 2nd row curtain head airbags', '4-wh...        0   \n",
       "\n",
       "           VehMileage  Dealer_Listing_Price    SellerLocation  Car_Age  \\\n",
       "ListingID                                                                \n",
       "3287          39319.0               30990.0        Warren, MI        8   \n",
       "4777          38957.0               23249.0      Waukesha, WI        8   \n",
       "6242          20404.0               31977.0    Wentzville, MO        5   \n",
       "7108          19788.0               33495.0  Fayetteville, AR        5   \n",
       "10882         34649.0               27900.0         Olean, NY        5   \n",
       "\n",
       "          Num_Owners  Accident  ...  VehColorExt_Red  VehColorExt_Silver  \\\n",
       "ListingID                       ...                                        \n",
       "3287               1         0  ...            False               False   \n",
       "4777               1         0  ...            False               False   \n",
       "6242               1         0  ...            False               False   \n",
       "7108               1         0  ...            False                True   \n",
       "10882              1         0  ...            False                True   \n",
       "\n",
       "           VehColorExt_White  VehFuel_E85 Flex Fuel  VehFuel_Gasoline  \\\n",
       "ListingID                                                               \n",
       "3287                    True                  False              True   \n",
       "4777                    True                  False              True   \n",
       "6242                    True                  False              True   \n",
       "7108                   False                  False              True   \n",
       "10882                  False                  False              True   \n",
       "\n",
       "           VehDriveTrain_4WD  VehDriveTrain_AWD  VehDriveTrain_FWD  \\\n",
       "ListingID                                                            \n",
       "3287                    True              False              False   \n",
       "4777                    True              False              False   \n",
       "6242                    True              False              False   \n",
       "7108                   False              False               True   \n",
       "10882                   True              False              False   \n",
       "\n",
       "           VehPriceLabel_Good Deal  VehPriceLabel_Great Deal  \n",
       "ListingID                                                     \n",
       "3287                         False                     False  \n",
       "4777                          True                     False  \n",
       "6242                          True                     False  \n",
       "7108                          True                     False  \n",
       "10882                         True                     False  \n",
       "\n",
       "[5 rows x 29 columns]"
      ]
     },
     "execution_count": 60,
     "metadata": {},
     "output_type": "execute_result"
    }
   ],
   "source": [
    "data = hf.handle_categorical_data(data)\n",
    "data.head()"
   ]
  },
  {
   "cell_type": "code",
   "execution_count": null,
   "metadata": {},
   "outputs": [
    {
     "name": "stdout",
     "output_type": "stream",
     "text": [
      "\n",
      " Data evaluation: \n"
     ]
    },
    {
     "data": {
      "text/html": [
       "<div>\n",
       "<style scoped>\n",
       "    .dataframe tbody tr th:only-of-type {\n",
       "        vertical-align: middle;\n",
       "    }\n",
       "\n",
       "    .dataframe tbody tr th {\n",
       "        vertical-align: top;\n",
       "    }\n",
       "\n",
       "    .dataframe thead th {\n",
       "        text-align: right;\n",
       "    }\n",
       "</style>\n",
       "<table border=\"1\" class=\"dataframe\">\n",
       "  <thead>\n",
       "    <tr style=\"text-align: right;\">\n",
       "      <th></th>\n",
       "      <th>count</th>\n",
       "      <th>mean</th>\n",
       "      <th>std</th>\n",
       "      <th>min</th>\n",
       "      <th>25%</th>\n",
       "      <th>50%</th>\n",
       "      <th>75%</th>\n",
       "      <th>max</th>\n",
       "    </tr>\n",
       "  </thead>\n",
       "  <tbody>\n",
       "    <tr>\n",
       "      <th>SellerRating</th>\n",
       "      <td>5453.0</td>\n",
       "      <td>4.176985</td>\n",
       "      <td>1.122180</td>\n",
       "      <td>0.0</td>\n",
       "      <td>4.0</td>\n",
       "      <td>4.6</td>\n",
       "      <td>4.8</td>\n",
       "      <td>5.0</td>\n",
       "    </tr>\n",
       "    <tr>\n",
       "      <th>VehMake</th>\n",
       "      <td>5453.0</td>\n",
       "      <td>0.320924</td>\n",
       "      <td>0.466875</td>\n",
       "      <td>0.0</td>\n",
       "      <td>0.0</td>\n",
       "      <td>0.0</td>\n",
       "      <td>1.0</td>\n",
       "      <td>1.0</td>\n",
       "    </tr>\n",
       "    <tr>\n",
       "      <th>VehMileage</th>\n",
       "      <td>5453.0</td>\n",
       "      <td>26470.264808</td>\n",
       "      <td>12964.865170</td>\n",
       "      <td>5.0</td>\n",
       "      <td>16993.0</td>\n",
       "      <td>26181.0</td>\n",
       "      <td>36618.0</td>\n",
       "      <td>83037.0</td>\n",
       "    </tr>\n",
       "    <tr>\n",
       "      <th>Dealer_Listing_Price</th>\n",
       "      <td>5453.0</td>\n",
       "      <td>32135.274344</td>\n",
       "      <td>7571.669519</td>\n",
       "      <td>18289.0</td>\n",
       "      <td>26800.0</td>\n",
       "      <td>31000.0</td>\n",
       "      <td>35920.0</td>\n",
       "      <td>89500.0</td>\n",
       "    </tr>\n",
       "    <tr>\n",
       "      <th>Car_Age</th>\n",
       "      <td>5453.0</td>\n",
       "      <td>6.213827</td>\n",
       "      <td>1.210485</td>\n",
       "      <td>4.0</td>\n",
       "      <td>5.0</td>\n",
       "      <td>6.0</td>\n",
       "      <td>8.0</td>\n",
       "      <td>8.0</td>\n",
       "    </tr>\n",
       "    <tr>\n",
       "      <th>Accident</th>\n",
       "      <td>5453.0</td>\n",
       "      <td>0.105997</td>\n",
       "      <td>0.307862</td>\n",
       "      <td>0.0</td>\n",
       "      <td>0.0</td>\n",
       "      <td>0.0</td>\n",
       "      <td>0.0</td>\n",
       "      <td>1.0</td>\n",
       "    </tr>\n",
       "  </tbody>\n",
       "</table>\n",
       "</div>"
      ],
      "text/plain": [
       "                       count          mean           std      min      25%  \\\n",
       "SellerRating          5453.0      4.176985      1.122180      0.0      4.0   \n",
       "VehMake               5453.0      0.320924      0.466875      0.0      0.0   \n",
       "VehMileage            5453.0  26470.264808  12964.865170      5.0  16993.0   \n",
       "Dealer_Listing_Price  5453.0  32135.274344   7571.669519  18289.0  26800.0   \n",
       "Car_Age               5453.0      6.213827      1.210485      4.0      5.0   \n",
       "Accident              5453.0      0.105997      0.307862      0.0      0.0   \n",
       "\n",
       "                          50%      75%      max  \n",
       "SellerRating              4.6      4.8      5.0  \n",
       "VehMake                   0.0      1.0      1.0  \n",
       "VehMileage            26181.0  36618.0  83037.0  \n",
       "Dealer_Listing_Price  31000.0  35920.0  89500.0  \n",
       "Car_Age                   6.0      8.0      8.0  \n",
       "Accident                  0.0      0.0      1.0  "
      ]
     },
     "execution_count": 61,
     "metadata": {},
     "output_type": "execute_result"
    }
   ],
   "source": [
    "# Evaluate the data\n",
    "print(\"\\n Data evaluation: \")\n",
    "data.describe().T"
   ]
  },
  {
   "cell_type": "code",
   "execution_count": null,
   "metadata": {},
   "outputs": [
    {
     "data": {
      "text/plain": [
       "Index(['SellerIsPriv', 'SellerRating', 'VehFeats', 'VehMake', 'VehMileage',\n",
       "       'Dealer_Listing_Price', 'SellerLocation', 'Car_Age', 'Num_Owners',\n",
       "       'Accident', 'VehColorExt_Black', 'VehColorExt_Blue',\n",
       "       'VehColorExt_Bronze', 'VehColorExt_Brown', 'VehColorExt_Gold',\n",
       "       'VehColorExt_Gray', 'VehColorExt_Green', 'VehColorExt_Pink',\n",
       "       'VehColorExt_Purple', 'VehColorExt_Red', 'VehColorExt_Silver',\n",
       "       'VehColorExt_White', 'VehFuel_E85 Flex Fuel', 'VehFuel_Gasoline',\n",
       "       'VehDriveTrain_4WD', 'VehDriveTrain_AWD', 'VehDriveTrain_FWD',\n",
       "       'VehPriceLabel_Good Deal', 'VehPriceLabel_Great Deal'],\n",
       "      dtype='object')"
      ]
     },
     "execution_count": 62,
     "metadata": {},
     "output_type": "execute_result"
    }
   ],
   "source": [
    "data.columns"
   ]
  },
  {
   "cell_type": "code",
   "execution_count": null,
   "metadata": {},
   "outputs": [
    {
     "data": {
      "image/png": "[encoded data removed]",
      "text/plain": [
       "<Figure size 640x480 with 1 Axes>"
      ]
     },
     "metadata": {},
     "output_type": "display_data"
    }
   ],
   "source": [
    "# Visualize the data\n",
    "hf.plot_data(data, 'Dealer_Listing_Price', 'VehMileage')"
   ]
  },
  {
   "cell_type": "code",
   "execution_count": null,
   "metadata": {},
   "outputs": [
    {
     "data": {
      "image/png": "[encoded data removed]",
      "text/plain": [
       "<Figure size 640x480 with 2 Axes>"
      ]
     },
     "metadata": {},
     "output_type": "display_data"
    }
   ],
   "source": [
    "# Color scatter plot with bins\n",
    "bins = [0, 10000, 20000, 30000, 40000, 50000, 60000, float('inf')]\n",
    "hf.plot_data_with_bins(data, 'VehMileage', bins, 'Dealer_Listing_Price')"
   ]
  },
  {
   "cell_type": "code",
   "execution_count": null,
   "metadata": {},
   "outputs": [
    {
     "data": {
      "text/html": [
       "<div>\n",
       "<style scoped>\n",
       "    .dataframe tbody tr th:only-of-type {\n",
       "        vertical-align: middle;\n",
       "    }\n",
       "\n",
       "    .dataframe tbody tr th {\n",
       "        vertical-align: top;\n",
       "    }\n",
       "\n",
       "    .dataframe thead th {\n",
       "        text-align: right;\n",
       "    }\n",
       "</style>\n",
       "<table border=\"1\" class=\"dataframe\">\n",
       "  <thead>\n",
       "    <tr style=\"text-align: right;\">\n",
       "      <th></th>\n",
       "      <th>SellerIsPriv</th>\n",
       "      <th>SellerRating</th>\n",
       "      <th>VehFeats</th>\n",
       "      <th>VehMake</th>\n",
       "      <th>VehMileage</th>\n",
       "      <th>Dealer_Listing_Price</th>\n",
       "      <th>SellerLocation</th>\n",
       "      <th>Car_Age</th>\n",
       "      <th>Num_Owners</th>\n",
       "      <th>Accident</th>\n",
       "      <th>...</th>\n",
       "      <th>VehColorExt_Red</th>\n",
       "      <th>VehColorExt_Silver</th>\n",
       "      <th>VehColorExt_White</th>\n",
       "      <th>VehFuel_E85 Flex Fuel</th>\n",
       "      <th>VehFuel_Gasoline</th>\n",
       "      <th>VehDriveTrain_4WD</th>\n",
       "      <th>VehDriveTrain_AWD</th>\n",
       "      <th>VehDriveTrain_FWD</th>\n",
       "      <th>VehPriceLabel_Good Deal</th>\n",
       "      <th>VehPriceLabel_Great Deal</th>\n",
       "    </tr>\n",
       "    <tr>\n",
       "      <th>ListingID</th>\n",
       "      <th></th>\n",
       "      <th></th>\n",
       "      <th></th>\n",
       "      <th></th>\n",
       "      <th></th>\n",
       "      <th></th>\n",
       "      <th></th>\n",
       "      <th></th>\n",
       "      <th></th>\n",
       "      <th></th>\n",
       "      <th></th>\n",
       "      <th></th>\n",
       "      <th></th>\n",
       "      <th></th>\n",
       "      <th></th>\n",
       "      <th></th>\n",
       "      <th></th>\n",
       "      <th></th>\n",
       "      <th></th>\n",
       "      <th></th>\n",
       "      <th></th>\n",
       "    </tr>\n",
       "  </thead>\n",
       "  <tbody>\n",
       "    <tr>\n",
       "      <th>5785275</th>\n",
       "      <td>False</td>\n",
       "      <td>4.1</td>\n",
       "      <td>['All Wheel Drive', 'Alloy Wheels', 'Android A...</td>\n",
       "      <td>1</td>\n",
       "      <td>83037.0</td>\n",
       "      <td>25991.0</td>\n",
       "      <td>Port St Lucie, FL</td>\n",
       "      <td>6</td>\n",
       "      <td>3</td>\n",
       "      <td>1</td>\n",
       "      <td>...</td>\n",
       "      <td>False</td>\n",
       "      <td>True</td>\n",
       "      <td>False</td>\n",
       "      <td>False</td>\n",
       "      <td>True</td>\n",
       "      <td>False</td>\n",
       "      <td>True</td>\n",
       "      <td>False</td>\n",
       "      <td>True</td>\n",
       "      <td>False</td>\n",
       "    </tr>\n",
       "  </tbody>\n",
       "</table>\n",
       "<p>1 rows × 29 columns</p>\n",
       "</div>"
      ],
      "text/plain": [
       "           SellerIsPriv  SellerRating  \\\n",
       "ListingID                               \n",
       "5785275           False           4.1   \n",
       "\n",
       "                                                    VehFeats  VehMake  \\\n",
       "ListingID                                                               \n",
       "5785275    ['All Wheel Drive', 'Alloy Wheels', 'Android A...        1   \n",
       "\n",
       "           VehMileage  Dealer_Listing_Price     SellerLocation  Car_Age  \\\n",
       "ListingID                                                                 \n",
       "5785275       83037.0               25991.0  Port St Lucie, FL        6   \n",
       "\n",
       "          Num_Owners  Accident  ...  VehColorExt_Red  VehColorExt_Silver  \\\n",
       "ListingID                       ...                                        \n",
       "5785275            3         1  ...            False                True   \n",
       "\n",
       "           VehColorExt_White  VehFuel_E85 Flex Fuel  VehFuel_Gasoline  \\\n",
       "ListingID                                                               \n",
       "5785275                False                  False              True   \n",
       "\n",
       "           VehDriveTrain_4WD  VehDriveTrain_AWD  VehDriveTrain_FWD  \\\n",
       "ListingID                                                            \n",
       "5785275                False               True              False   \n",
       "\n",
       "           VehPriceLabel_Good Deal  VehPriceLabel_Great Deal  \n",
       "ListingID                                                     \n",
       "5785275                       True                     False  \n",
       "\n",
       "[1 rows x 29 columns]"
      ]
     },
     "execution_count": 65,
     "metadata": {},
     "output_type": "execute_result"
    }
   ],
   "source": [
    "outliers = data.loc[data['VehMileage'] > 75000]\n",
    "outliers.head()"
   ]
  },
  {
   "cell_type": "code",
   "execution_count": null,
   "metadata": {},
   "outputs": [
    {
     "data": {
      "text/plain": [
       "<Axes: xlabel='VehMileage'>"
      ]
     },
     "execution_count": 66,
     "metadata": {},
     "output_type": "execute_result"
    },
    {
     "data": {
      "image/png": "[encoded data removed]",
      "text/plain": [
       "<Figure size 640x480 with 1 Axes>"
      ]
     },
     "metadata": {},
     "output_type": "display_data"
    }
   ],
   "source": [
    "# Visualize VehMileage boxplot\n",
    "hf.plot_boxplot(data, 'VehMileage')"
   ]
  },
  {
   "cell_type": "code",
   "execution_count": null,
   "metadata": {},
   "outputs": [
    {
     "name": "stdout",
     "output_type": "stream",
     "text": [
      "<class 'pandas.core.frame.DataFrame'>\n",
      "Index: 5157 entries, 3287 to 8620012\n",
      "Data columns (total 29 columns):\n",
      " #   Column                    Non-Null Count  Dtype  \n",
      "---  ------                    --------------  -----  \n",
      " 0   SellerIsPriv              5157 non-null   bool   \n",
      " 1   SellerRating              5157 non-null   float64\n",
      " 2   VehFeats                  5157 non-null   object \n",
      " 3   VehMake                   5157 non-null   int64  \n",
      " 4   VehMileage                5157 non-null   float64\n",
      " 5   Dealer_Listing_Price      5157 non-null   float64\n",
      " 6   SellerLocation            5157 non-null   object \n",
      " 7   Car_Age                   5157 non-null   int64  \n",
      " 8   Num_Owners                5157 non-null   object \n",
      " 9   Accident                  5157 non-null   int64  \n",
      " 10  VehColorExt_Black         5157 non-null   bool   \n",
      " 11  VehColorExt_Blue          5157 non-null   bool   \n",
      " 12  VehColorExt_Bronze        5157 non-null   bool   \n",
      " 13  VehColorExt_Brown         5157 non-null   bool   \n",
      " 14  VehColorExt_Gold          5157 non-null   bool   \n",
      " 15  VehColorExt_Gray          5157 non-null   bool   \n",
      " 16  VehColorExt_Green         5157 non-null   bool   \n",
      " 17  VehColorExt_Pink          5157 non-null   bool   \n",
      " 18  VehColorExt_Purple        5157 non-null   bool   \n",
      " 19  VehColorExt_Red           5157 non-null   bool   \n",
      " 20  VehColorExt_Silver        5157 non-null   bool   \n",
      " 21  VehColorExt_White         5157 non-null   bool   \n",
      " 22  VehFuel_E85 Flex Fuel     5157 non-null   bool   \n",
      " 23  VehFuel_Gasoline          5157 non-null   bool   \n",
      " 24  VehDriveTrain_4WD         5157 non-null   bool   \n",
      " 25  VehDriveTrain_AWD         5157 non-null   bool   \n",
      " 26  VehDriveTrain_FWD         5157 non-null   bool   \n",
      " 27  VehPriceLabel_Good Deal   5157 non-null   bool   \n",
      " 28  VehPriceLabel_Great Deal  5157 non-null   bool   \n",
      "dtypes: bool(20), float64(3), int64(3), object(3)\n",
      "memory usage: 503.6+ KB\n"
     ]
    }
   ],
   "source": [
    "# Remove outliers\n",
    "data = hf.remove_outliers(data)\n",
    "data.info()"
   ]
  },
  {
   "cell_type": "code",
   "execution_count": null,
   "metadata": {},
   "outputs": [
    {
     "data": {
      "text/plain": [
       "<Axes: xlabel='VehMileage'>"
      ]
     },
     "execution_count": 68,
     "metadata": {},
     "output_type": "execute_result"
    },
    {
     "data": {
      "image/png": "[encoded data removed]",
      "text/plain": [
       "<Figure size 640x480 with 1 Axes>"
      ]
     },
     "metadata": {},
     "output_type": "display_data"
    }
   ],
   "source": [
    "# Visualize VehMileage boxplot after removing outliers\n",
    "hf.plot_boxplot(data, 'VehMileage')"
   ]
  },
  {
   "cell_type": "code",
   "execution_count": null,
   "metadata": {},
   "outputs": [
    {
     "data": {
      "image/png": "[encoded data removed]",
      "text/plain": [
       "<Figure size 640x480 with 2 Axes>"
      ]
     },
     "metadata": {},
     "output_type": "display_data"
    }
   ],
   "source": [
    "# Color scatter plot with bins after removing outliers\n",
    "bins = [0, 10000, 20000, 30000, 40000, 50000, 60000, float('inf')]\n",
    "hf.plot_data_with_bins(data, 'VehMileage', bins, 'Dealer_Listing_Price')"
   ]
  },
  {
   "cell_type": "code",
   "execution_count": null,
   "metadata": {},
   "outputs": [
    {
     "name": "stdout",
     "output_type": "stream",
     "text": [
      "\n",
      " Binning Dealer_Listing_Price...\n",
      "<class 'pandas.core.frame.DataFrame'>\n",
      "Index: 6298 entries, 3287 to 8620012\n",
      "Data columns (total 29 columns):\n",
      " #   Column                Non-Null Count  Dtype  \n",
      "---  ------                --------------  -----  \n",
      " 0   SellerIsPriv          6298 non-null   bool   \n",
      " 1   SellerListSrc         6296 non-null   object \n",
      " 2   SellerName            6298 non-null   object \n",
      " 3   SellerRevCnt          6298 non-null   int64  \n",
      " 4   SellerZip             6296 non-null   float64\n",
      " 5   VehBodystyle          6298 non-null   object \n",
      " 6   VehCertified          6298 non-null   bool   \n",
      " 7   VehColorExt           6225 non-null   object \n",
      " 8   VehColorInt           5570 non-null   object \n",
      " 9   VehDriveTrain         5897 non-null   object \n",
      " 10  VehEngine             5937 non-null   object \n",
      " 11  VehFeats              6023 non-null   object \n",
      " 12  VehFuel               6296 non-null   object \n",
      " 13  VehHistory            6097 non-null   object \n",
      " 14  VehListdays           6296 non-null   float64\n",
      " 15  VehMake               6298 non-null   object \n",
      " 16  VehMileage            6296 non-null   float64\n",
      " 17  VehModel              6298 non-null   object \n",
      " 18  VehPriceLabel         6013 non-null   object \n",
      " 19  VehSellerNotes        6055 non-null   object \n",
      " 20  VehType               6298 non-null   object \n",
      " 21  VehTransmission       6101 non-null   object \n",
      " 22  Vehicle_Trim          5893 non-null   object \n",
      " 23  Dealer_Listing_Price  6246 non-null   float64\n",
      " 24  SellerLocation        6298 non-null   object \n",
      " 25  Car_Age               6298 non-null   int64  \n",
      " 26  SellerRating_poor     6298 non-null   bool   \n",
      " 27  SellerRating_average  6298 non-null   bool   \n",
      " 28  SellerRating_good     6298 non-null   bool   \n",
      "dtypes: bool(5), float64(4), int64(2), object(18)\n",
      "memory usage: 1.2+ MB\n"
     ]
    }
   ],
   "source": [
    "# Bin Dealer_Listing_Price\n",
    "print(\"\\n Binning Dealer_Listing_Price...\")\n",
    "data = hf.bin_numeric_columns(data)\n",
    "data.info()"
   ]
  }
 ],
 "metadata": {
  "kernelspec": {
   "display_name": "venv",
   "language": "python",
   "name": "python3"
  },
  "language_info": {
   "codemirror_mode": {
    "name": "ipython",
    "version": 3
   },
   "file_extension": ".py",
   "mimetype": "text/x-python",
   "name": "python",
   "nbconvert_exporter": "python",
   "pygments_lexer": "ipython3",
   "version": "3.11.5"
  }
 },
 "nbformat": 4,
 "nbformat_minor": 2
}
